{
 "metadata": {
  "name": "",
  "signature": "sha256:ad73298982f20dd700d2dc686d0fb48ec614105bbc1042ba324d021cbc974155"
 },
 "nbformat": 3,
 "nbformat_minor": 0,
 "worksheets": [
  {
   "cells": [
    {
     "cell_type": "code",
     "collapsed": false,
     "input": [
      "from skimage import data,io,filters\n",
      "from os import listdir,system\n",
      "import shutil\n",
      "import matplotlib.pyplot as plt\n",
      "%matplotlib inline\n",
      "import numpy\n",
      "from PIL import Image"
     ],
     "language": "python",
     "metadata": {},
     "outputs": []
    },
    {
     "cell_type": "code",
     "collapsed": false,
     "input": [
      "infilepath=\"Manatee_dataset/sketches_train/\""
     ],
     "language": "python",
     "metadata": {},
     "outputs": []
    },
    {
     "cell_type": "code",
     "collapsed": false,
     "input": [
      "img_dim = []\n",
      "for image in listdir(infilepath):\n",
      "    filename=infilepath+image\n",
      "    im = Image.open(filename)\n",
      "    img_dim.append(im.size)\n",
      "    #im_inv = numpy.invert(im)\n",
      "    #image_changed = image.replace(\"invert_\",\"\")\n",
      "    #outfilepath_changed = outfilepath+image_changed\n",
      "    #io.imsave(outfilepath_changed, im)\n",
      "print img_dim    "
     ],
     "language": "python",
     "metadata": {},
     "outputs": []
    },
    {
     "cell_type": "code",
     "collapsed": false,
     "input": [
      "print min(img_dim)"
     ],
     "language": "python",
     "metadata": {},
     "outputs": []
    },
    {
     "cell_type": "code",
     "collapsed": false,
     "input": [
      "length = []\n",
      "for i in img_dim:\n",
      "    length.append(i[0])\n",
      "print length    "
     ],
     "language": "python",
     "metadata": {},
     "outputs": []
    },
    {
     "cell_type": "code",
     "collapsed": false,
     "input": [
      "def avg(list):\n",
      "    sum = 0\n",
      "    for elm in list:\n",
      "        sum += elm\n",
      "    return str(sum/(len(list)*1.0))"
     ],
     "language": "python",
     "metadata": {},
     "outputs": []
    },
    {
     "cell_type": "code",
     "collapsed": false,
     "input": [
      "print avg(length)"
     ],
     "language": "python",
     "metadata": {},
     "outputs": []
    },
    {
     "cell_type": "code",
     "collapsed": false,
     "input": [
      "breadth = []\n",
      "for i in img_dim:\n",
      "    breadth.append(i[1])"
     ],
     "language": "python",
     "metadata": {},
     "outputs": []
    },
    {
     "cell_type": "code",
     "collapsed": false,
     "input": [
      "print avg(breadth)"
     ],
     "language": "python",
     "metadata": {},
     "outputs": []
    },
    {
     "cell_type": "code",
     "collapsed": false,
     "input": [
      "infilepath=\"Manatee_dataset/preprocessed_and_augmented_train/invert/\"\n",
      "outfilepath=\"Manatee_dataset/preprocessed_and_augmented_train/invert_resized/\"\n",
      "\n",
      "from resizeimage import resizeimage\n",
      "\n",
      "def resize_file(in_file, out_file, size):\n",
      "    with open(in_file) as fd:\n",
      "        image = resizeimage.resize_thumbnail(Image.open(fd), size)\n",
      "    image.save(outfilepath+out_file)\n",
      "    image.close()"
     ],
     "language": "python",
     "metadata": {},
     "outputs": []
    },
    {
     "cell_type": "code",
     "collapsed": false,
     "input": [
      "for image in listdir(infilepath):\n",
      "    filename=infilepath+image\n",
      "    resize_file(filename, image, (540, 250))\n",
      "    #im = Image.open(filename)\n",
      "    #img_dim.append(im.size)\n"
     ],
     "language": "python",
     "metadata": {},
     "outputs": []
    },
    {
     "cell_type": "code",
     "collapsed": false,
     "input": [
      "infilepath=\"Manatee_dataset/preprocessed_and_augmented_train/invert/\"\n",
      "outfilepath=\"Manatee_dataset/preprocessed_and_augmented_train/invert_resized/\"\n",
      "for image in listdir(infilepath):\n",
      "    filename=infilepath+image\n",
      "    im = Image.open(filename)\n",
      "    im = im.resize((256, 128), Image.ANTIALIAS)\n",
      "    im.save(outfilepath+image)"
     ],
     "language": "python",
     "metadata": {},
     "outputs": []
    },
    {
     "cell_type": "code",
     "collapsed": false,
     "input": [
      "infilepath=\"Manatee_dataset/preprocessed_and_augmented_train/invert_resized/\"\n",
      "img_dim = []\n",
      "for image in listdir(infilepath):\n",
      "    filename=infilepath+image\n",
      "    im = Image.open(filename)\n",
      "    img_dim.append(im.size)\n",
      "    #im_inv = numpy.invert(im)\n",
      "    #image_changed = image.replace(\"invert_\",\"\")\n",
      "    #outfilepath_changed = outfilepath+image_changed\n",
      "    #io.imsave(outfilepath_changed, im)\n",
      "print img_dim "
     ],
     "language": "python",
     "metadata": {},
     "outputs": []
    },
    {
     "cell_type": "code",
     "collapsed": false,
     "input": [
      "min(img_dim)"
     ],
     "language": "python",
     "metadata": {},
     "outputs": []
    },
    {
     "cell_type": "code",
     "collapsed": false,
     "input": [
      "infilepath=\"Manatee_dataset/preprocessed_and_augmented_train/mean/\"\n",
      "outfilepath=\"Manatee_dataset/preprocessed_and_augmented_train/mean_resized/\"\n",
      "for image in listdir(infilepath):\n",
      "    filename=infilepath+image\n",
      "    im = Image.open(filename)\n",
      "    im = im.resize((256, 128), Image.ANTIALIAS)\n",
      "    im.save(outfilepath+image)"
     ],
     "language": "python",
     "metadata": {},
     "outputs": []
    },
    {
     "cell_type": "code",
     "collapsed": false,
     "input": [
      "infilepath=\"Manatee_dataset/preprocessed_and_augmented_train/mean_resized/\"\n",
      "img_dim = []\n",
      "for image in listdir(infilepath):\n",
      "    filename=infilepath+image\n",
      "    im = Image.open(filename)\n",
      "    img_dim.append(im.size)"
     ],
     "language": "python",
     "metadata": {},
     "outputs": []
    },
    {
     "cell_type": "code",
     "collapsed": false,
     "input": [
      "infilepath=\"Manatee_dataset/preprocessed_and_augmented_train/median/\"\n",
      "outfilepath=\"Manatee_dataset/preprocessed_and_augmented_train/median_resized/\"\n",
      "for image in listdir(infilepath):\n",
      "    filename=infilepath+image\n",
      "    im = Image.open(filename)\n",
      "    im = im.resize((256, 128), Image.ANTIALIAS)\n",
      "    im.save(outfilepath+image)"
     ],
     "language": "python",
     "metadata": {},
     "outputs": []
    },
    {
     "cell_type": "code",
     "collapsed": false,
     "input": [
      "infilepath=\"Manatee_dataset/preprocessed_and_augmented_train/median_resized/\"\n",
      "img_dim = []\n",
      "for image in listdir(infilepath):\n",
      "    filename=infilepath+image\n",
      "    im = Image.open(filename)\n",
      "    img_dim.append(im.size)"
     ],
     "language": "python",
     "metadata": {},
     "outputs": []
    },
    {
     "cell_type": "code",
     "collapsed": false,
     "input": [
      "\n",
      "infilepath=\"Manatee_dataset/preprocessed_and_augmented_train/gaussian_strong/\"\n",
      "outfilepath=\"Manatee_dataset/preprocessed_and_augmented_train/gaussian_strong_resized/\"\n",
      "for image in listdir(infilepath):\n",
      "    filename=infilepath+image\n",
      "    im = Image.open(filename)\n",
      "    im = im.resize((256, 128), Image.ANTIALIAS)\n",
      "    im.save(outfilepath+image)"
     ],
     "language": "python",
     "metadata": {},
     "outputs": []
    },
    {
     "cell_type": "code",
     "collapsed": false,
     "input": [
      "infilepath=\"Manatee_dataset/preprocessed_and_augmented_train/gaussian_strong_resized/\"\n",
      "img_dim = []\n",
      "for image in listdir(infilepath):\n",
      "    filename=infilepath+image\n",
      "    im = Image.open(filename)\n",
      "    img_dim.append(im.size)"
     ],
     "language": "python",
     "metadata": {},
     "outputs": []
    },
    {
     "cell_type": "code",
     "collapsed": false,
     "input": [
      "infilepath=\"Manatee_dataset/preprocessed_and_augmented_train/gaussian_mild/\"\n",
      "outfilepath=\"Manatee_dataset/preprocessed_and_augmented_train/gaussian_mild_resized/\"\n",
      "for image in listdir(infilepath):\n",
      "    filename=infilepath+image\n",
      "    im = Image.open(filename)\n",
      "    im = im.resize((256, 128), Image.ANTIALIAS)\n",
      "    im.save(outfilepath+image)"
     ],
     "language": "python",
     "metadata": {},
     "outputs": []
    },
    {
     "cell_type": "code",
     "collapsed": false,
     "input": [
      "infilepath=\"Manatee_dataset/preprocessed_and_augmented_train/gaussian_mild_resized/\"\n",
      "img_dim = []\n",
      "for image in listdir(infilepath):\n",
      "    filename=infilepath+image\n",
      "    im = Image.open(filename)\n",
      "    img_dim.append(im.size)"
     ],
     "language": "python",
     "metadata": {},
     "outputs": []
    },
    {
     "cell_type": "code",
     "collapsed": false,
     "input": [
      "infilepath=\"Manatee_dataset/preprocessed_and_augmented_train/gabor_real/\"\n",
      "outfilepath=\"Manatee_dataset/preprocessed_and_augmented_train/gabor_real_resized/\"\n",
      "for image in listdir(infilepath):\n",
      "    filename=infilepath+image\n",
      "    im = Image.open(filename)\n",
      "    im = im.resize((256, 128), Image.ANTIALIAS)\n",
      "    im.save(outfilepath+image)"
     ],
     "language": "python",
     "metadata": {},
     "outputs": []
    },
    {
     "cell_type": "code",
     "collapsed": false,
     "input": [
      "infilepath=\"Manatee_dataset/preprocessed_and_augmented_train/gabor_real_resized/\"\n",
      "img_dim = []\n",
      "for image in listdir(infilepath):\n",
      "    filename=infilepath+image\n",
      "    im = Image.open(filename)\n",
      "    img_dim.append(im.size)"
     ],
     "language": "python",
     "metadata": {},
     "outputs": []
    },
    {
     "cell_type": "code",
     "collapsed": false,
     "input": [
      "infilepath=\"Manatee_dataset/preprocessed_and_augmented_train/gabor_imaginary/\"\n",
      "outfilepath=\"Manatee_dataset/preprocessed_and_augmented_train/gabor_imaginary_resized/\"\n",
      "for image in listdir(infilepath):\n",
      "    filename=infilepath+image\n",
      "    im = Image.open(filename)\n",
      "    im = im.resize((256, 128), Image.ANTIALIAS)\n",
      "    im.save(outfilepath+image)"
     ],
     "language": "python",
     "metadata": {},
     "outputs": []
    },
    {
     "cell_type": "code",
     "collapsed": false,
     "input": [
      "infilepath=\"Manatee_dataset/preprocessed_and_augmented_train/gabor_imaginary_resized/\"\n",
      "img_dim = []\n",
      "for image in listdir(infilepath):\n",
      "    filename=infilepath+image\n",
      "    im = Image.open(filename)\n",
      "    img_dim.append(im.size)"
     ],
     "language": "python",
     "metadata": {},
     "outputs": []
    },
    {
     "cell_type": "code",
     "collapsed": false,
     "input": [
      "from skimage import data,io,filters\n",
      "infilepath=\"Manatee_dataset/sketches_test/\"\n",
      "outfilepath=\"Manatee_dataset/preprocessed_and_augmented_train/test_invert/\"\n",
      "for image in listdir(infilepath):\n",
      "    filename=infilepath+image\n",
      "    im = Image.open(filename)\n",
      "    #im = im.resize((540, 250), Image.ANTIALIAS)\n",
      "    im_inv = numpy.invert(im)\n",
      "    io.imsave(outfilepath+image,im_inv)\n",
      "    #im.save(outfilepath+image)"
     ],
     "language": "python",
     "metadata": {},
     "outputs": []
    },
    {
     "cell_type": "code",
     "collapsed": false,
     "input": [
      "infilepath=\"Manatee_dataset/preprocessed_and_augmented_train/test_invert/\"\n",
      "outfilepath=\"Manatee_dataset/preprocessed_and_augmented_train/test_invert/\"\n",
      "for image in listdir(infilepath):\n",
      "    filename=infilepath+image\n",
      "    im = Image.open(filename)   \n",
      "    if image.endswith('.tif'):  \n",
      "        image = image[:-3]\n",
      "        image = image+'jpg'\n",
      "        io.imsave(outfilepath+image,im)  "
     ],
     "language": "python",
     "metadata": {},
     "outputs": []
    },
    {
     "cell_type": "code",
     "collapsed": false,
     "input": [
      "infilepath=\"Manatee_dataset/preprocessed_and_augmented_train/test_invert/\"\n",
      "outfilepath=\"Manatee_dataset/preprocessed_and_augmented_train/test_invert/\"\n",
      "for image in listdir(infilepath):\n",
      "    filename=infilepath+image\n",
      "    im = Image.open(filename)\n",
      "    #im = im.resize((540, 250), Image.ANTIALIAS)\n",
      "    im_inv = numpy.invert(im)\n",
      "    io.imsave(outfilepath+image,im_inv)\n",
      "    #im.save(outfilepath+image)"
     ],
     "language": "python",
     "metadata": {},
     "outputs": []
    },
    {
     "cell_type": "code",
     "collapsed": false,
     "input": [
      "infilepath=\"Manatee_dataset/preprocessed_and_augmented_train/test_invert/\"\n",
      "outfilepath=\"Manatee_dataset/preprocessed_and_augmented_train/test_invert_resized/\"\n",
      "for image in listdir(infilepath):\n",
      "    filename=infilepath+image\n",
      "    im = Image.open(filename)\n",
      "    im = im.resize((256, 128), Image.ANTIALIAS)\n",
      "    im.save(outfilepath+image)"
     ],
     "language": "python",
     "metadata": {},
     "outputs": []
    },
    {
     "cell_type": "code",
     "collapsed": false,
     "input": [
      "infilepath=\"Manatee_dataset/preprocessed_and_augmented_train/test_invert_resized/\"\n",
      "img_dim = []\n",
      "for image in listdir(infilepath):\n",
      "    filename=infilepath+image\n",
      "    im = Image.open(filename)\n",
      "    img_dim.append(im.size)"
     ],
     "language": "python",
     "metadata": {},
     "outputs": []
    },
    {
     "cell_type": "code",
     "collapsed": false,
     "input": [
      "'''\n",
      "import Augmentor\n",
      "infilepath=\"Manatee_dataset/preprocessed_and_augmented_train/invert_resized/\"\n",
      "for dirsorfiles in listdir(infilepath):\n",
      "    if(os.path.isdir(infilepath+dirsorfiles)):\n",
      "        p = Augmentor.Pipeline(infilepath+dirsorfiles+\"/\")\n",
      "        p.rotate(max_left_rotation=5, max_right_rotation=5, probability=0.25)\n",
      "        p.zoom(0.25, min_factor=1.05, max_factor=1.2)\n",
      "        p.flip_top_bottom(0.25)\n",
      "        p.random_distortion(0.25, 50, 50, 1, randomise_magnitude=True)\n",
      "        p.sample(142)\n",
      "'''        "
     ],
     "language": "python",
     "metadata": {},
     "outputs": []
    },
    {
     "cell_type": "code",
     "collapsed": false,
     "input": [
      "import shutil\n",
      "import os\n",
      "infilepath=\"Manatee_dataset/preprocessed_and_augmented_train/invert_resized/\"\n",
      "img = infilepath+'U041.jpg'\n",
      "im = Image.open(img)\n",
      "im_arr = numpy.array(im)\n",
      "plt.imshow(im_arr, cmap='gray', interpolation='nearest')\n",
      "#im = im.resize((128,64),Image.ANTIALIAS)\n",
      "#im_arr = numpy.array(im)\n",
      "#plt.imshow(im_arr, cmap='gray', interpolation='nearest')"
     ],
     "language": "python",
     "metadata": {},
     "outputs": []
    },
    {
     "cell_type": "code",
     "collapsed": false,
     "input": [
      "infilepath=\"Manatee_dataset/preprocessed_and_augmented_train/invert_resized/\"\n",
      "outfilepath=\"Manatee_dataset/preprocessed_and_augmented_train/invert_mini_resized/\"\n",
      "for image in listdir(infilepath):\n",
      "    filename=infilepath+image\n",
      "    im = Image.open(filename)\n",
      "    im = im.resize((128, 64), Image.ANTIALIAS)\n",
      "    im.save(outfilepath+image)"
     ],
     "language": "python",
     "metadata": {},
     "outputs": []
    },
    {
     "cell_type": "code",
     "collapsed": false,
     "input": [
      "infilepath=\"Manatee_dataset/preprocessed_and_augmented_train/mean_resized/\"\n",
      "outfilepath=\"Manatee_dataset/preprocessed_and_augmented_train/mean_mini_resized/\"\n",
      "for image in listdir(infilepath):\n",
      "    filename=infilepath+image\n",
      "    im = Image.open(filename)\n",
      "    im = im.resize((128, 64), Image.ANTIALIAS)\n",
      "    im.save(outfilepath+image)"
     ],
     "language": "python",
     "metadata": {},
     "outputs": []
    },
    {
     "cell_type": "code",
     "collapsed": false,
     "input": [
      "infilepath=\"Manatee_dataset/preprocessed_and_augmented_train/median_resized/\"\n",
      "outfilepath=\"Manatee_dataset/preprocessed_and_augmented_train/median_mini_resized/\"\n",
      "for image in listdir(infilepath):\n",
      "    filename=infilepath+image\n",
      "    im = Image.open(filename)\n",
      "    im = im.resize((128, 64), Image.ANTIALIAS)\n",
      "    im.save(outfilepath+image)"
     ],
     "language": "python",
     "metadata": {},
     "outputs": []
    },
    {
     "cell_type": "code",
     "collapsed": false,
     "input": [
      "infilepath=\"Manatee_dataset/preprocessed_and_augmented_train/gaussian_strong_resized/\"\n",
      "outfilepath=\"Manatee_dataset/preprocessed_and_augmented_train/gaussian_strong_mini_resized/\"\n",
      "for image in listdir(infilepath):\n",
      "    filename=infilepath+image\n",
      "    im = Image.open(filename)\n",
      "    im = im.resize((128, 64), Image.ANTIALIAS)\n",
      "    im.save(outfilepath+image)"
     ],
     "language": "python",
     "metadata": {},
     "outputs": []
    },
    {
     "cell_type": "code",
     "collapsed": false,
     "input": [
      "infilepath=\"Manatee_dataset/preprocessed_and_augmented_train/gaussian_mild_resized/\"\n",
      "outfilepath=\"Manatee_dataset/preprocessed_and_augmented_train/gaussian_mild_mini_resized/\"\n",
      "for image in listdir(infilepath):\n",
      "    filename=infilepath+image\n",
      "    im = Image.open(filename)\n",
      "    im = im.resize((128, 64), Image.ANTIALIAS)\n",
      "    im.save(outfilepath+image)"
     ],
     "language": "python",
     "metadata": {},
     "outputs": []
    },
    {
     "cell_type": "code",
     "collapsed": false,
     "input": [
      "infilepath=\"Manatee_dataset/preprocessed_and_augmented_train/gabor_real_resized/\"\n",
      "outfilepath=\"Manatee_dataset/preprocessed_and_augmented_train/gabor_real_mini_resized/\"\n",
      "for image in listdir(infilepath):\n",
      "    filename=infilepath+image\n",
      "    im = Image.open(filename)\n",
      "    im = im.resize((128, 64), Image.ANTIALIAS)\n",
      "    im.save(outfilepath+image)"
     ],
     "language": "python",
     "metadata": {},
     "outputs": []
    },
    {
     "cell_type": "code",
     "collapsed": false,
     "input": [
      "infilepath=\"Manatee_dataset/preprocessed_and_augmented_train/gabor_imaginary_resized/\"\n",
      "outfilepath=\"Manatee_dataset/preprocessed_and_augmented_train/gabor_imaginary_mini_resized/\"\n",
      "for image in listdir(infilepath):\n",
      "    filename=infilepath+image\n",
      "    im = Image.open(filename)\n",
      "    im = im.resize((128, 64), Image.ANTIALIAS)\n",
      "    im.save(outfilepath+image)"
     ],
     "language": "python",
     "metadata": {},
     "outputs": []
    },
    {
     "cell_type": "code",
     "collapsed": false,
     "input": [
      "infilepath=\"Manatee_dataset/preprocessed_and_augmented_train/test_invert_resized/\"\n",
      "outfilepath=\"Manatee_dataset/preprocessed_and_augmented_train/test_invert_mini_resized/\"\n",
      "for image in listdir(infilepath):\n",
      "    filename=infilepath+image\n",
      "    im = Image.open(filename)\n",
      "    im = im.resize((128, 64), Image.ANTIALIAS)\n",
      "    im.save(outfilepath+image)"
     ],
     "language": "python",
     "metadata": {},
     "outputs": []
    },
    {
     "cell_type": "code",
     "collapsed": false,
     "input": [],
     "language": "python",
     "metadata": {},
     "outputs": []
    }
   ],
   "metadata": {}
  }
 ]
}