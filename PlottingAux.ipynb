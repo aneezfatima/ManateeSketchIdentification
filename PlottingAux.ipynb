{
 "cells": [
  {
   "cell_type": "code",
   "execution_count": 76,
   "metadata": {
    "collapsed": true
   },
   "outputs": [],
   "source": [
    "import matplotlib.pyplot as plt\n",
    "import numpy as np\n",
    "from scipy.stats import norm\n",
    "from mpl_toolkits.axes_grid1.inset_locator import zoomed_inset_axes\n",
    "from mpl_toolkits.axes_grid1.inset_locator import mark_inset\n",
    "from mpl_toolkits.axes_grid1.inset_locator import InsetPosition\n",
    "\n",
    "layers3Top1=[0, 0, 0, 0, 0, 0, 0, 0, 0, 0, 1, 1, 0, 1, 3, 1, 2, 0, 0, 0, 1, 1, 0, 1, 1, 0, 1, 1, 0, 0, 0, 1, 1, 2, 1, 1, 1, 1, 2, 1, 2, 1, 1, 2, 2, 2, 3, 3, 5, 5, 6, 5, 4, 3, 4, 6, 4, 4, 4, 6, 5, 5, 6, 4, 6, 5, 6, 6, 5, 6, 6, 5, 6, 6, 5, 7, 8, 6, 6, 7, 6, 6, 6, 6, 6, 6, 7, 8, 8, 8, 11, 9, 10, 10, 9, 8, 10, 9, 9, 8, 9, 8, 12, 10, 13, 10, 10, 12, 14, 14, 9, 13, 12, 13, 11, 12, 10, 12, 14, 13, 11, 11, 12, 13, 13, 10, 12, 12, 12, 12, 13, 15, 13, 14, 12, 9, 16, 12, 14, 14, 13, 12, 12, 13, 12, 13, 13, 14, 13, 13, 13, 11, 12, 13, 15, 15, 15, 13, 15, 15, 16, 11, 15, 13, 14, 13, 11, 14, 15, 11, 15, 15, 14, 14, 14, 15, 12, 14, 12, 13, 12, 15, 12, 14, 11, 13, 15, 14, 14, 14, 15, 13, 17, 14, 15, 14, 11, 14, 11, 15]\n",
    "layers3Top5=[0, 0, 0, 1, 2, 1, 0, 0, 0, 1, 1, 1, 1, 2, 3, 3, 4, 1, 3, 1, 1, 1, 1, 3, 1, 2, 4, 2, 2, 3, 0, 3, 2, 3, 2, 3, 5, 4, 3, 3, 4, 4, 2, 4, 5, 6, 6, 6, 7, 8, 8, 8, 9, 8, 9, 9, 9, 7, 12, 9, 6, 8, 8, 8, 8, 9, 7, 12, 11, 8, 11, 9, 9, 8, 12, 9, 13, 9, 10, 11, 13, 11, 11, 11, 11, 11, 11, 12, 15, 13, 15, 14, 14, 14, 17, 14, 14, 14, 16, 14, 17, 13, 15, 15, 17, 13, 15, 15, 19, 19, 19, 18, 21, 17, 21, 17, 18, 17, 18, 19, 18, 18, 21, 20, 21, 21, 19, 16, 18, 18, 18, 17, 20, 20, 19, 19, 18, 19, 23, 18, 20, 17, 18, 20, 19, 22, 20, 22, 18, 22, 20, 19, 21, 22, 21, 22, 23, 22, 23, 22, 19, 19, 24, 20, 20, 19, 21, 19, 19, 15, 19, 23, 19, 18, 20, 22, 18, 19, 18, 20, 18, 19, 22, 20, 22, 20, 20, 21, 21, 21, 21, 19, 21, 23, 21, 20, 20, 22, 19, 19]\n",
    "layers3Top10=[1, 1, 0, 1, 2, 2, 4, 2, 0, 2, 2, 1, 2, 2, 3, 3, 4, 3, 3, 3, 3, 1, 2, 3, 3, 3, 4, 3, 2, 5, 2, 6, 4, 5, 4, 6, 6, 6, 5, 7, 8, 5, 3, 7, 8, 9, 8, 7, 8, 12, 9, 8, 10, 9, 12, 12, 10, 9, 13, 11, 9, 9, 11, 10, 8, 11, 9, 14, 14, 11, 13, 9, 12, 13, 14, 10, 14, 11, 13, 15, 15, 15, 14, 14, 16, 14, 14, 14, 19, 15, 17, 17, 19, 19, 20, 16, 17, 17, 23, 19, 21, 17, 20, 23, 21, 21, 21, 18, 24, 22, 21, 20, 23, 21, 21, 20, 21, 21, 19, 20, 24, 20, 22, 23, 25, 25, 22, 21, 23, 20, 20, 21, 23, 23, 22, 21, 23, 22, 25, 22, 24, 24, 25, 20, 22, 25, 23, 24, 23, 26, 22, 26, 23, 22, 23, 28, 25, 24, 26, 23, 22, 21, 25, 24, 24, 21, 24, 22, 22, 19, 24, 27, 24, 24, 24, 26, 20, 23, 20, 23, 26, 23, 22, 24, 23, 21, 22, 22, 23, 27, 24, 22, 25, 25, 22, 24, 23, 25, 23, 24]\n",
    "layers3Top20=[1, 1, 1, 2, 3, 3, 5, 3, 4, 5, 4, 3, 2, 2, 4, 3, 4, 3, 3, 5, 5, 5, 4, 3, 5, 7, 5, 5, 6, 6, 5, 8, 9, 9, 6, 11, 8, 9, 8, 12, 8, 8, 10, 11, 10, 13, 10, 13, 10, 13, 12, 13, 13, 13, 14, 14, 13, 12, 16, 13, 13, 10, 13, 11, 13, 13, 12, 14, 14, 13, 14, 11, 12, 17, 15, 13, 15, 16, 17, 20, 17, 18, 17, 22, 20, 15, 19, 16, 22, 19, 21, 21, 22, 22, 22, 24, 24, 24, 25, 22, 23, 23, 27, 23, 27, 27, 26, 25, 27, 26, 22, 25, 27, 24, 25, 27, 26, 27, 27, 25, 27, 26, 26, 27, 29, 28, 27, 26, 28, 26, 24, 24, 25, 27, 26, 24, 27, 25, 27, 28, 26, 29, 28, 27, 26, 30, 27, 27, 29, 28, 26, 30, 30, 28, 27, 30, 28, 29, 30, 29, 26, 26, 28, 28, 27, 25, 27, 26, 26, 24, 30, 30, 28, 29, 27, 30, 25, 28, 29, 29, 31, 27, 28, 28, 30, 28, 26, 25, 30, 29, 29, 30, 28, 28, 28, 30, 28, 31, 27, 33]\n",
    "\n",
    "layers4Top1=[0, 0, 0, 0, 0, 0, 0, 0, 0, 1, 0, 0, 0, 0, 0, 1, 1, 2, 0, 1, 1, 0, 1, 3, 1, 1, 1, 1, 2, 3, 1, 1, 3, 3, 2, 3, 3, 4, 4, 5, 2, 5, 3, 6, 5, 5, 5, 3, 5, 4, 5, 6, 5, 3, 7, 5, 5, 3, 6, 6, 6, 5, 7, 4, 5, 6, 5, 6, 7, 6, 7, 4, 7, 7, 6, 7, 9, 7, 6, 7, 7, 6, 7, 8, 7, 8, 8, 7, 8, 9, 9, 10, 8, 8, 10, 10, 8, 10, 8, 11, 10, 10, 9, 10, 8, 11, 9, 11, 9, 11, 11, 12, 12, 9, 10, 10, 10, 13, 7, 11, 10, 10, 13, 13, 11, 12, 10, 12, 12, 13, 10, 13, 11, 10, 12, 12, 13, 11, 12, 12, 11, 13, 12, 10, 12, 12, 12, 13, 14, 12, 12, 11, 10, 15, 15, 14, 12, 11, 14, 13, 15, 16, 14, 13, 17, 13, 14, 14, 13, 15, 14, 14, 13, 15, 14, 16, 18, 17, 12, 17, 15, 13, 12, 13, 14, 12, 11, 15, 14, 14, 16, 14, 12, 14, 13, 14, 16, 12, 14, 12]\n",
    "layers4Top5=[0, 0, 0, 0, 1, 0, 1, 3, 2, 3, 3, 3, 0, 2, 1, 2, 2, 4, 2, 4, 2, 1, 1, 3, 2, 3, 2, 5, 3, 6, 4, 6, 4, 6, 7, 6, 6, 5, 8, 6, 8, 7, 7, 8, 7, 6, 7, 6, 9, 7, 7, 11, 10, 6, 8, 9, 8, 6, 10, 10, 10, 9, 9, 7, 10, 11, 11, 9, 9, 11, 8, 9, 11, 11, 13, 14, 15, 13, 12, 11, 13, 10, 10, 12, 15, 11, 10, 16, 10, 13, 14, 13, 15, 18, 17, 20, 15, 17, 18, 25, 17, 22, 14, 21, 17, 18, 17, 21, 21, 20, 20, 19, 18, 21, 20, 19, 21, 21, 18, 26, 19, 22, 19, 17, 20, 25, 26, 21, 23, 19, 21, 23, 24, 22, 19, 21, 23, 20, 20, 17, 21, 24, 24, 23, 22, 21, 20, 22, 20, 20, 21, 21, 20, 22, 22, 23, 24, 18, 21, 21, 22, 27, 20, 24, 25, 23, 21, 24, 26, 23, 20, 21, 24, 23, 21, 22, 23, 25, 22, 22, 19, 20, 21, 19, 20, 20, 16, 24, 23, 22, 24, 24, 22, 21, 20, 22, 22, 21, 27, 25]\n",
    "layers4Top10=[0, 0, 2, 0, 2, 0, 3, 4, 4, 4, 4, 3, 2, 2, 2, 4, 4, 6, 3, 6, 2, 2, 3, 6, 3, 4, 3, 7, 4, 7, 7, 7, 5, 7, 7, 7, 6, 6, 10, 9, 8, 8, 9, 10, 7, 7, 8, 8, 9, 9, 10, 12, 14, 9, 11, 12, 10, 10, 11, 10, 12, 10, 14, 10, 14, 15, 12, 11, 12, 13, 14, 14, 12, 15, 16, 16, 19, 17, 16, 19, 16, 14, 18, 16, 19, 17, 16, 19, 15, 18, 18, 17, 20, 26, 22, 25, 24, 23, 22, 28, 26, 26, 19, 26, 23, 23, 28, 23, 27, 25, 26, 23, 24, 24, 26, 29, 24, 24, 26, 29, 25, 27, 27, 26, 23, 29, 27, 26, 29, 27, 26, 24, 27, 28, 28, 29, 26, 26, 23, 20, 30, 28, 29, 29, 28, 29, 27, 25, 24, 26, 26, 26, 26, 29, 29, 26, 27, 24, 26, 24, 25, 32, 29, 32, 30, 30, 28, 29, 30, 27, 27, 27, 28, 30, 24, 24, 27, 27, 25, 29, 26, 25, 25, 23, 25, 27, 23, 28, 25, 30, 29, 28, 32, 28, 26, 29, 28, 25, 33, 28]\n",
    "layers4Top20=[0, 1, 2, 2, 3, 3, 4, 4, 5, 5, 5, 3, 4, 4, 4, 5, 4, 8, 6, 7, 3, 2, 5, 7, 4, 6, 4, 7, 5, 10, 11, 12, 6, 9, 11, 8, 10, 10, 10, 11, 9, 11, 9, 12, 9, 11, 9, 12, 11, 13, 12, 14, 14, 12, 14, 15, 16, 15, 14, 14, 15, 17, 18, 13, 19, 19, 22, 21, 18, 17, 18, 17, 16, 21, 22, 24, 25, 21, 22, 21, 20, 21, 23, 22, 24, 20, 23, 23, 20, 26, 22, 24, 27, 28, 28, 28, 30, 31, 26, 31, 30, 29, 23, 30, 28, 27, 31, 25, 31, 30, 30, 29, 28, 31, 33, 35, 29, 35, 30, 32, 30, 32, 33, 32, 29, 32, 33, 30, 33, 32, 32, 28, 34, 33, 30, 33, 31, 29, 30, 31, 37, 33, 39, 34, 31, 33, 31, 33, 30, 34, 31, 32, 30, 35, 34, 29, 33, 31, 29, 31, 34, 37, 36, 38, 35, 32, 36, 33, 34, 34, 32, 35, 31, 34, 26, 29, 33, 37, 30, 36, 31, 33, 34, 29, 33, 34, 29, 33, 32, 37, 36, 33, 37, 35, 34, 40, 38, 34, 40, 33]\n",
    "\n",
    "layers5Top1=[0, 1, 1, 0, 0, 0, 0, 0, 0, 0, 0, 1, 0, 1, 0, 0, 0, 0, 0, 0, 0, 1, 0, 0, 0, 0, 0, 1, 0, 0, 3, 1, 1, 2, 3, 1, 1, 2, 3, 4, 3, 4, 2, 4, 3, 1, 3, 2, 3, 6, 5, 4, 4, 4, 4, 6, 3, 5, 4, 5, 6, 5, 4, 5, 4, 4, 4, 5, 5, 6, 7, 6, 9, 8, 9, 5, 6, 5, 6, 7, 9, 6, 7, 7, 7, 8, 8, 10, 10, 7, 4, 8, 8, 8, 9, 8, 11, 9, 8, 10, 7, 9, 9, 9, 10, 10, 10, 10, 12, 9, 8, 11, 14, 9, 10, 10, 9, 11, 11, 11, 10, 10, 10, 9, 12, 10, 9, 10, 11, 9, 13, 12, 13, 11, 12, 11, 11, 10, 11, 10, 12, 10, 10, 9, 10, 11, 14, 12, 11, 12, 11, 10, 11, 8, 12, 13, 11, 12, 13, 14, 10, 12, 11, 12, 12, 8, 11, 12, 12, 11, 13, 13, 11, 12, 11, 14, 11, 13, 11, 12, 11, 13, 10, 11, 16, 13, 11, 12, 11, 10, 12, 13, 11, 12, 8, 11, 9, 9, 9, 11]\n",
    "layers5Top5=[0, 2, 1, 1, 1, 2, 0, 0, 0, 0, 2, 3, 2, 1, 3, 1, 1, 0, 0, 1, 2, 2, 3, 3, 2, 0, 2, 1, 3, 1, 6, 2, 3, 3, 4, 3, 5, 4, 6, 8, 7, 7, 6, 7, 7, 8, 6, 8, 6, 8, 6, 6, 7, 8, 6, 9, 8, 7, 10, 8, 7, 9, 8, 8, 9, 7, 9, 11, 9, 9, 10, 9, 10, 11, 12, 8, 9, 10, 10, 10, 11, 10, 9, 12, 9, 11, 14, 12, 14, 12, 9, 14, 15, 15, 17, 18, 14, 15, 17, 15, 15, 17, 15, 15, 15, 20, 15, 15, 18, 15, 16, 15, 15, 14, 15, 19, 14, 17, 16, 16, 15, 17, 17, 16, 19, 16, 20, 18, 21, 19, 21, 19, 23, 20, 19, 18, 20, 15, 20, 17, 17, 15, 18, 18, 19, 19, 26, 22, 23, 18, 19, 19, 20, 20, 21, 19, 16, 21, 22, 21, 18, 22, 22, 19, 21, 19, 24, 20, 22, 23, 23, 20, 20, 20, 22, 20, 21, 25, 21, 21, 21, 21, 20, 22, 20, 20, 23, 24, 19, 21, 20, 20, 22, 19, 15, 19, 19, 19, 22, 18]\n",
    "layers5Top10=[0, 2, 1, 1, 1, 2, 0, 0, 0, 3, 2, 4, 4, 1, 3, 3, 3, 1, 1, 2, 3, 3, 5, 3, 4, 2, 2, 3, 3, 3, 6, 4, 5, 4, 5, 5, 7, 8, 8, 9, 7, 9, 11, 10, 8, 10, 8, 8, 8, 10, 12, 10, 10, 10, 9, 9, 11, 7, 14, 9, 9, 15, 11, 13, 11, 9, 12, 12, 13, 12, 11, 11, 11, 14, 14, 12, 13, 11, 16, 12, 13, 15, 10, 16, 12, 13, 17, 15, 20, 18, 16, 18, 20, 20, 22, 22, 19, 22, 21, 20, 16, 17, 20, 19, 22, 20, 18, 20, 20, 21, 23, 20, 22, 20, 17, 21, 19, 21, 20, 19, 19, 22, 24, 23, 21, 23, 25, 22, 26, 23, 22, 23, 25, 24, 26, 21, 22, 24, 23, 24, 22, 24, 21, 24, 22, 24, 28, 25, 25, 25, 25, 20, 24, 24, 23, 26, 24, 27, 29, 22, 25, 25, 26, 26, 27, 25, 28, 27, 30, 29, 24, 27, 25, 28, 27, 24, 24, 26, 25, 29, 27, 25, 28, 26, 24, 28, 27, 25, 23, 26, 25, 22, 28, 26, 25, 22, 26, 26, 26, 24]\n",
    "layers5Top20=[1, 2, 4, 1, 1, 2, 1, 4, 2, 4, 2, 4, 5, 2, 3, 6, 7, 4, 4, 3, 3, 4, 7, 5, 5, 6, 5, 5, 6, 5, 7, 4, 6, 8, 8, 11, 8, 10, 10, 12, 12, 12, 13, 13, 10, 11, 12, 13, 11, 11, 14, 15, 14, 16, 14, 14, 13, 10, 16, 14, 16, 17, 16, 15, 19, 14, 14, 17, 14, 17, 14, 15, 14, 17, 19, 13, 16, 14, 17, 15, 20, 19, 18, 21, 18, 20, 20, 22, 22, 22, 21, 24, 21, 23, 25, 24, 26, 25, 26, 23, 21, 23, 27, 28, 24, 24, 21, 26, 22, 24, 27, 25, 29, 22, 21, 23, 25, 24, 26, 23, 24, 26, 26, 25, 26, 28, 28, 27, 30, 24, 27, 28, 28, 27, 30, 28, 26, 27, 28, 32, 31, 30, 27, 27, 28, 28, 31, 28, 30, 30, 28, 30, 26, 29, 27, 31, 31, 31, 33, 26, 29, 29, 32, 29, 30, 30, 32, 29, 32, 31, 30, 33, 32, 33, 32, 30, 29, 32, 27, 32, 30, 30, 35, 35, 29, 32, 27, 32, 29, 28, 25, 29, 33, 32, 31, 28, 28, 30, 31, 32]\n",
    "\n",
    "def smoothC(ylist,xlist):\n",
    "    xAns,yAns=[],[]\n",
    "    for i in range(len(ylist)): ylist[i]=(ylist[i]*100)/122\n",
    "    coefs = np.polyfit(xlist,ylist,4) #change the polynomial order as you wish\n",
    "    pol=(np.poly1d(coefs))(xlist)\n",
    "    for i in range(len(ylist)): \n",
    "        if abs(ylist[i]-pol[i])<0.050:\n",
    "            xAns.append(xlist[i])\n",
    "            yAns.append(ylist[i])\n",
    "    return (xAns,yAns,pol)\n"
   ]
  },
  {
   "cell_type": "code",
   "execution_count": 65,
   "metadata": {
    "collapsed": true
   },
   "outputs": [],
   "source": [
    "plt.figure()\n",
    "axes = plt.gca()\n",
    "axes.set_xlim([1,201])\n",
    "axes.set_ylim([0,30])\n",
    "x=range(1,201)"
   ]
  },
  {
   "cell_type": "code",
   "execution_count": 66,
   "metadata": {
    "collapsed": false
   },
   "outputs": [
    {
     "data": {
      "text/plain": [
       "[<matplotlib.lines.Line2D at 0xe7e6b0>]"
      ]
     },
     "execution_count": 66,
     "metadata": {},
     "output_type": "execute_result"
    }
   ],
   "source": [
    "#3 layers\n",
    "xP,yP,poly=smoothC(layers3Top10,x)\n",
    "maxV=max(layers3Top10)\n",
    "plt.plot(x[layers3Top10.index(maxV)],maxV,\"*\",c='r',markersize=15,label=\"Layers 8 (3 conv) Max. Accuracy\")\n",
    "plt.plot(x[-1],layers3Top10[-1],\"^\",c='r',markersize=15, label=\"Layers 8 (3 conv) Layers Final Accuracy\")\n",
    "plt.plot(xP,yP,\"o\", color='r',label=\"Layers 8 (3 conv) Layers Learning\")\n",
    "plt.plot(x, poly,linewidth=2.0,color='r')"
   ]
  },
  {
   "cell_type": "code",
   "execution_count": 68,
   "metadata": {
    "collapsed": false
   },
   "outputs": [
    {
     "data": {
      "text/plain": [
       "[<matplotlib.lines.Line2D at 0xe8ad30>]"
      ]
     },
     "execution_count": 68,
     "metadata": {},
     "output_type": "execute_result"
    }
   ],
   "source": [
    "#4 layers (run first cell)\n",
    "xP,yP,poly=smoothC(layers4Top10,x)\n",
    "maxV=max(layers4Top10)\n",
    "plt.plot(x[layers4Top10.index(maxV)],maxV,\"*\",c='g',markersize=15,label=\"Layers 9 (4 conv) Max. Accuracy\")\n",
    "plt.plot(x[-1],layers4Top10[-1],\"^\",c='g',markersize=15, label=\"Layers 9 (4 conv) Layers Final Accuracy\")\n",
    "plt.plot(xP,yP,\"o\", color='g',label=\"Layers 9 (4 conv) Layers Learning\")\n",
    "plt.plot(x, poly,linewidth=2.0,color='g')\n",
    "#plt.legend()\n",
    "#plt.show()"
   ]
  },
  {
   "cell_type": "code",
   "execution_count": 70,
   "metadata": {
    "collapsed": true
   },
   "outputs": [],
   "source": [
    "#5 layers (run first cell)\n",
    "xP,yP,poly=smoothC(layers5Top10,x)\n",
    "maxV=max(layers5Top10)\n",
    "plt.plot(x[layers5Top10.index(maxV)],maxV,\"*\",c='b',markersize=15,label=\"Layers 10 (5 conv) Max. Accuracy\")\n",
    "plt.plot(x[-1],layers5Top10[-1],\"^\",c='b',markersize=15, label=\"Layers 10 (5 conv) Layers Final Accuracy\")\n",
    "plt.plot(xP,yP,\"o\", color='b',label=\"Layers 10 (5 conv) Layers Learning\")\n",
    "plt.plot(x, poly,linewidth=2.0,color='b')\n",
    "plt.title(\"Top 10 Accuracy\",fontsize=30)\n",
    "plt.xlabel(\"No.of epochs\",fontsize=20)\n",
    "plt.ylabel(\"Accuracy (%)\",fontsize=20)\n",
    "plt.legend(loc=2)\n",
    "plt.rcParams.update({'font.size': 15})"
   ]
  },
  {
   "cell_type": "code",
   "execution_count": 71,
   "metadata": {
    "collapsed": true
   },
   "outputs": [],
   "source": [
    "ax=plt.gca() #get current axes\n",
    "ip = InsetPosition(ax, [100,10, 50, 5])\n",
    "axins = zoomed_inset_axes(ax,4,loc=4) # zoom = 4"
   ]
  },
  {
   "cell_type": "code",
   "execution_count": 73,
   "metadata": {
    "collapsed": false
   },
   "outputs": [
    {
     "data": {
      "text/plain": [
       "[<matplotlib.lines.Line2D at 0xecced0>]"
      ]
     },
     "execution_count": 73,
     "metadata": {},
     "output_type": "execute_result"
    }
   ],
   "source": [
    "#3 layers (run first cell)\n",
    "xP,yP,poly=smoothC(layers3Top10,x)\n",
    "maxV=max(layers3Top10)\n",
    "axins.plot(x[layers3Top10.index(maxV)],maxV,\"*\",c='r',markersize=15)\n",
    "axins.plot(x[-1],layers3Top10[-1],\"^\",c='r',markersize=15)\n",
    "axins.plot(xP,yP,\"o\", color='r')\n",
    "axins.plot(x, poly,linewidth=2.0,color='r')"
   ]
  },
  {
   "cell_type": "code",
   "execution_count": 75,
   "metadata": {
    "collapsed": false
   },
   "outputs": [
    {
     "data": {
      "text/plain": [
       "[<matplotlib.lines.Line2D at 0xed68b0>]"
      ]
     },
     "execution_count": 75,
     "metadata": {},
     "output_type": "execute_result"
    }
   ],
   "source": [
    "#4 layers (run first cell)\n",
    "xP,yP,poly=smoothC(layers4Top10,x)\n",
    "maxV=max(layers4Top10)\n",
    "axins.plot(x[layers4Top10.index(maxV)],maxV,\"*\",c='g',markersize=15)\n",
    "axins.plot(x[-1],layers4Top10[-1],\"^\",c='r',markersize=15)\n",
    "axins.plot(xP,yP,\"o\",color='g')\n",
    "axins.plot(x, poly,linewidth=2.0,color='g')"
   ]
  },
  {
   "cell_type": "code",
   "execution_count": 77,
   "metadata": {
    "collapsed": false
   },
   "outputs": [
    {
     "data": {
      "text/plain": [
       "[<matplotlib.lines.Line2D at 0xed0ff0>]"
      ]
     },
     "execution_count": 77,
     "metadata": {},
     "output_type": "execute_result"
    }
   ],
   "source": [
    "#5 layers (run first cell)\n",
    "xP,yP,poly=smoothC(layers5Top10,x)\n",
    "maxV=max(layers5Top10)\n",
    "axins.plot(x[layers5Top10.index(maxV)],maxV,\"*\",c='b',markersize=15)\n",
    "axins.plot(x[-1],layers5Top10[-1],\"^\",c='b',markersize=15)\n",
    "axins.plot(xP,yP,\"o\", color='b')\n",
    "axins.plot(x, poly,linewidth=2.0,color='b')"
   ]
  },
  {
   "cell_type": "code",
   "execution_count": 78,
   "metadata": {
    "collapsed": true
   },
   "outputs": [],
   "source": [
    "x1, x2, y1, y2 = 199, 201, 19, 20\n",
    "axins.set_xlim(x1, x2)\n",
    "axins.set_ylim(y1, y2)\n",
    "\n",
    "plt.xticks(visible=True)\n",
    "plt.yticks(visible=True)\n",
    "\n",
    "\n",
    "# draw a bbox of the region of the inset axes in the parent axes and\n",
    "# connecting lines between the bbox and the inset axes area\n",
    "mark_inset(ax, axins, loc1=2, loc2=4, fc=\"none\", ec=\"0.5\")\n",
    "\n",
    "plt.savefig('Top10 Accuracy.jpg')\n",
    "plt.show()"
   ]
  },
  {
   "cell_type": "code",
   "execution_count": null,
   "metadata": {
    "collapsed": true
   },
   "outputs": [],
   "source": []
  }
 ],
 "metadata": {
  "kernelspec": {
   "display_name": "Python 3",
   "language": "python",
   "name": "python3"
  },
  "language_info": {
   "codemirror_mode": {
    "name": "ipython",
    "version": 3
   },
   "file_extension": ".py",
   "mimetype": "text/x-python",
   "name": "python",
   "nbconvert_exporter": "python",
   "pygments_lexer": "ipython3",
   "version": "3.5.3"
  }
 },
 "nbformat": 4,
 "nbformat_minor": 0
}
