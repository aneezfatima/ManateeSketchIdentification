{
 "metadata": {
  "name": "",
  "signature": "sha256:472798a35e580858847e0ce12c46d74a8d0a8b4e7d48ce4bed0568f3669aafce"
 },
 "nbformat": 3,
 "nbformat_minor": 0,
 "worksheets": [
  {
   "cells": [
    {
     "cell_type": "code",
     "collapsed": false,
     "input": [
      "from skimage import data,io,filters\n",
      "from os import listdir,system\n",
      "import shutil\n",
      "import matplotlib.pyplot as plt\n",
      "%matplotlib inline\n",
      "import numpy\n",
      "from PIL import Image"
     ],
     "language": "python",
     "metadata": {},
     "outputs": []
    },
    {
     "cell_type": "code",
     "collapsed": false,
     "input": [
      "invert_mini_resized = []\n",
      "invert_mini_resized_labels = []"
     ],
     "language": "python",
     "metadata": {},
     "outputs": []
    },
    {
     "cell_type": "code",
     "collapsed": false,
     "input": [
      "infilepath=\"Manatee_dataset/preprocessed_and_augmented_train/invert_mini_resized/\"\n",
      "for image in listdir(infilepath):\n",
      "    filename=infilepath+image\n",
      "    im = Image.open(filename)\n",
      "    #im = numpy.array(im)\n",
      "    #im = im.convert('L')\n",
      "    invert_mini_resized.append(numpy.array(im))\n",
      "    #invert_mini_resized.append(im)\n",
      "    invert_mini_resized_labels.append(image[:-4])\n",
      "    #im = im.resize((54, 25), Image.ANTIALIAS)\n",
      "    #im.save(outfilepath+image)"
     ],
     "language": "python",
     "metadata": {},
     "outputs": []
    },
    {
     "cell_type": "code",
     "collapsed": false,
     "input": [
      "invert_mini_resized_train_array = numpy.array(invert_mini_resized)\n",
      "print invert_mini_resized_train_array.shape\n",
      "invert_mini_resized_labels_array = numpy.array(invert_mini_resized_labels)\n",
      "print invert_mini_resized_labels_array.shape\n",
      "print invert_mini_resized_labels_array[0]"
     ],
     "language": "python",
     "metadata": {},
     "outputs": []
    },
    {
     "cell_type": "code",
     "collapsed": false,
     "input": [
      "mean_mini_resized = []\n",
      "mean_mini_resized_labels = []\n",
      "infilepath=\"Manatee_dataset/preprocessed_and_augmented_train/mean_mini_resized/\"\n",
      "for image in listdir(infilepath):\n",
      "    filename=infilepath+image\n",
      "    im = Image.open(filename)\n",
      "    im = im.convert('L')\n",
      "    mean_mini_resized.append(numpy.array(im))\n",
      "    mean_mini_resized_labels.append(image[:-4])\n",
      "    #im = im.resize((54, 25), Image.ANTIALIAS)\n",
      "    #im.save(outfilepath+image)\n",
      "mean_mini_resized_train_array = numpy.array(mean_mini_resized)\n",
      "print mean_mini_resized_train_array.shape    \n",
      "mean_mini_resized_labels_array = numpy.array(mean_mini_resized_labels)\n",
      "print mean_mini_resized_labels_array.shape\n",
      "print mean_mini_resized_labels_array[0]"
     ],
     "language": "python",
     "metadata": {},
     "outputs": []
    },
    {
     "cell_type": "code",
     "collapsed": false,
     "input": [
      "median_mini_resized = []\n",
      "median_mini_resized_labels = []\n",
      "infilepath=\"Manatee_dataset/preprocessed_and_augmented_train/median_mini_resized/\"\n",
      "for image in listdir(infilepath):\n",
      "    filename=infilepath+image\n",
      "    im = Image.open(filename)\n",
      "    im = im.convert('L')\n",
      "    median_mini_resized.append(numpy.array(im))\n",
      "    median_mini_resized_labels.append(image[:-4])    \n",
      "    #im = im.resize((54, 25), Image.ANTIALIAS)\n",
      "    #im.save(outfilepath+image)\n",
      "median_mini_resized_train_array = numpy.array(median_mini_resized)\n",
      "print median_mini_resized_train_array.shape\n",
      "median_mini_resized_labels_array = numpy.array(median_mini_resized_labels)\n",
      "print median_mini_resized_labels_array.shape\n",
      "print median_mini_resized_labels_array[0]"
     ],
     "language": "python",
     "metadata": {},
     "outputs": []
    },
    {
     "cell_type": "code",
     "collapsed": false,
     "input": [
      "test_invert_mini_resized = []\n",
      "test_invert_mini_resized_labels = []\n",
      "infilepath=\"Manatee_dataset/preprocessed_and_augmented_train/test_invert_mini_resized/\"\n",
      "for image in listdir(infilepath):\n",
      "    filename=infilepath+image\n",
      "    im = Image.open(filename)\n",
      "    im = im.convert('L')\n",
      "    test_invert_mini_resized.append(numpy.array(im))\n",
      "    test_invert_mini_resized_labels.append(image[:-6])       \n",
      "    #im = im.resize((54, 25), Image.ANTIALIAS)\n",
      "    #im.save(outfilepath+image)\n",
      "test_invert_mini_resized_array = numpy.array(test_invert_mini_resized)\n",
      "print test_invert_mini_resized_array.shape\n",
      "test_invert_mini_resized_labels_array = numpy.array(test_invert_mini_resized_labels)\n",
      "print test_invert_mini_resized_labels_array.shape\n",
      "print test_invert_mini_resized_labels_array[0]"
     ],
     "language": "python",
     "metadata": {},
     "outputs": []
    },
    {
     "cell_type": "code",
     "collapsed": false,
     "input": [
      "gabor_imaginary_mini_resized = []\n",
      "gabor_imaginary_mini_resized_labels = []\n",
      "infilepath=\"Manatee_dataset/preprocessed_and_augmented_train/gabor_imaginary_mini_resized/\"\n",
      "for image in listdir(infilepath):\n",
      "    filename=infilepath+image\n",
      "    im = Image.open(filename)\n",
      "    im = im.convert('L')\n",
      "    gabor_imaginary_mini_resized.append(numpy.array(im))\n",
      "    gabor_imaginary_mini_resized_labels.append(image[:-4])    \n",
      "    #im = im.resize((54, 25), Image.ANTIALIAS)\n",
      "    #im.save(outfilepath+image)\n",
      "gabor_imaginary_mini_resized_train_array = numpy.array(gabor_imaginary_mini_resized)\n",
      "print gabor_imaginary_mini_resized_train_array.shape\n",
      "gabor_imaginary_mini_resized_labels_array = numpy.array(gabor_imaginary_mini_resized_labels)\n",
      "print gabor_imaginary_mini_resized_labels_array.shape\n",
      "print gabor_imaginary_mini_resized_labels_array[0]"
     ],
     "language": "python",
     "metadata": {},
     "outputs": []
    },
    {
     "cell_type": "code",
     "collapsed": false,
     "input": [
      "gabor_real_mini_resized = []\n",
      "gabor_real_mini_resized_labels = []\n",
      "infilepath=\"Manatee_dataset/preprocessed_and_augmented_train/gabor_real_mini_resized/\"\n",
      "for image in listdir(infilepath):\n",
      "    filename=infilepath+image\n",
      "    im = Image.open(filename)\n",
      "    im = im.convert('L')\n",
      "    gabor_real_mini_resized.append(numpy.array(im))\n",
      "    gabor_real_mini_resized_labels.append(image[:-4])    \n",
      "    #im = im.resize((54, 25), Image.ANTIALIAS)\n",
      "    #im.save(outfilepath+image)\n",
      "gabor_real_mini_resized_train_array = numpy.array(gabor_real_mini_resized)\n",
      "print gabor_real_mini_resized_train_array.shape\n",
      "gabor_real_mini_resized_labels_array = numpy.array(gabor_real_mini_resized_labels)\n",
      "print gabor_real_mini_resized_labels_array.shape\n",
      "print gabor_real_mini_resized_labels_array[0]"
     ],
     "language": "python",
     "metadata": {},
     "outputs": []
    },
    {
     "cell_type": "code",
     "collapsed": false,
     "input": [
      "gaussian_mild_mini_resized = []\n",
      "gaussian_mild_mini_resized_labels = []\n",
      "infilepath=\"Manatee_dataset/preprocessed_and_augmented_train/gaussian_mild_mini_resized/\"\n",
      "for image in listdir(infilepath):\n",
      "    filename=infilepath+image\n",
      "    im = Image.open(filename)\n",
      "    im = im.convert('L')\n",
      "    gaussian_mild_mini_resized.append(numpy.array(im))\n",
      "    gaussian_mild_mini_resized_labels.append(image[:-4])    \n",
      "    #im = im.resize((54, 25), Image.ANTIALIAS)\n",
      "    #im.save(outfilepath+image)\n",
      "gaussian_mild_mini_resized_train_array = numpy.array(gaussian_mild_mini_resized)\n",
      "print gaussian_mild_mini_resized_train_array.shape\n",
      "gaussian_mild_mini_resized_labels_array = numpy.array(gaussian_mild_mini_resized_labels)\n",
      "print gaussian_mild_mini_resized_labels_array.shape\n",
      "print gaussian_mild_mini_resized_labels_array[0]"
     ],
     "language": "python",
     "metadata": {},
     "outputs": []
    },
    {
     "cell_type": "code",
     "collapsed": false,
     "input": [
      "gaussian_strong_mini_resized = []\n",
      "gaussian_strong_mini_resized_labels = []\n",
      "infilepath=\"Manatee_dataset/preprocessed_and_augmented_train/gaussian_strong_mini_resized/\"\n",
      "for image in listdir(infilepath):\n",
      "    filename=infilepath+image\n",
      "    im = Image.open(filename)\n",
      "    im = im.convert('L')\n",
      "    gaussian_strong_mini_resized.append(numpy.array(im))\n",
      "    gaussian_strong_mini_resized_labels.append(image[:-4])    \n",
      "    #im = im.resize((54, 25), Image.ANTIALIAS)\n",
      "    #im.save(outfilepath+image)\n",
      "gaussian_strong_mini_resized_train_array = numpy.array(gaussian_strong_mini_resized)\n",
      "print gaussian_strong_mini_resized_train_array.shape\n",
      "gaussian_strong_mini_resized_labels_array = numpy.array(gaussian_strong_mini_resized_labels)\n",
      "print gaussian_strong_mini_resized_labels_array.shape\n",
      "print gaussian_strong_mini_resized_labels_array[0]"
     ],
     "language": "python",
     "metadata": {},
     "outputs": []
    },
    {
     "cell_type": "code",
     "collapsed": false,
     "input": [
      "train_mini_dataset = []\n",
      "train_mini_dataset.append(invert_mini_resized_train_array[0])\n",
      "train_mini_dataset.append(mean_mini_resized_train_array[0])\n",
      "train_mini_dataset.append(median_mini_resized_train_array[0])\n",
      "train_mini_dataset.append(gabor_imaginary_mini_resized_train_array[0])\n",
      "train_mini_dataset.append(gabor_real_mini_resized_train_array[0])\n",
      "train_mini_dataset.append(gaussian_mild_mini_resized_train_array[0])\n",
      "train_mini_dataset.append(gaussian_strong_mini_resized_train_array[0])\n",
      "print numpy.array(train_mini_dataset).shape"
     ],
     "language": "python",
     "metadata": {},
     "outputs": []
    },
    {
     "cell_type": "code",
     "collapsed": false,
     "input": [
      "train_mini_dataset_labels = []\n",
      "train_mini_dataset_labels.append(invert_mini_resized_labels_array[0])\n",
      "train_mini_dataset_labels.append(mean_mini_resized_labels_array[0])\n",
      "train_mini_dataset_labels.append(median_mini_resized_labels_array[0])\n",
      "train_mini_dataset_labels.append(gabor_imaginary_mini_resized_labels_array[0])\n",
      "train_mini_dataset_labels.append(gabor_real_mini_resized_labels_array[0])\n",
      "train_mini_dataset_labels.append(gaussian_mild_mini_resized_labels_array[0])\n",
      "train_mini_dataset_labels.append(gaussian_strong_mini_resized_labels_array[0])\n",
      "print numpy.array(train_mini_dataset_labels)"
     ],
     "language": "python",
     "metadata": {},
     "outputs": []
    },
    {
     "cell_type": "code",
     "collapsed": false,
     "input": [
      "train_mini_dataset = []\n",
      "train_mini_dataset_labels = []\n",
      "for i in range(2291):\n",
      "    train_mini_dataset.append(invert_mini_resized_train_array[i])\n",
      "    train_mini_dataset.append(mean_mini_resized_train_array[i])\n",
      "    train_mini_dataset.append(median_mini_resized_train_array[i])\n",
      "    train_mini_dataset.append(gabor_imaginary_mini_resized_train_array[i])\n",
      "    train_mini_dataset.append(gabor_real_mini_resized_train_array[i])\n",
      "    train_mini_dataset.append(gaussian_mild_mini_resized_train_array[i])\n",
      "    train_mini_dataset.append(gaussian_strong_mini_resized_train_array[i])\n",
      "    train_mini_dataset_labels.append(invert_mini_resized_labels_array[i])\n",
      "    train_mini_dataset_labels.append(mean_mini_resized_labels_array[i])\n",
      "    train_mini_dataset_labels.append(median_mini_resized_labels_array[i])\n",
      "    train_mini_dataset_labels.append(gabor_imaginary_mini_resized_labels_array[i])\n",
      "    train_mini_dataset_labels.append(gabor_real_mini_resized_labels_array[i])\n",
      "    train_mini_dataset_labels.append(gaussian_mild_mini_resized_labels_array[i])\n",
      "    train_mini_dataset_labels.append(gaussian_strong_mini_resized_labels_array[i])\n",
      "    "
     ],
     "language": "python",
     "metadata": {},
     "outputs": []
    },
    {
     "cell_type": "code",
     "collapsed": false,
     "input": [
      "print numpy.array(train_mini_dataset).shape"
     ],
     "language": "python",
     "metadata": {},
     "outputs": []
    },
    {
     "cell_type": "code",
     "collapsed": false,
     "input": [
      "print numpy.array(train_mini_dataset_labels).shape"
     ],
     "language": "python",
     "metadata": {},
     "outputs": []
    },
    {
     "cell_type": "code",
     "collapsed": false,
     "input": [
      "train_mini_dataset_array = numpy.array(train_mini_dataset)\n",
      "# Write the array to disk\n",
      "with file('Manatee_dataset/train_mini_final.txt', 'w') as outfile:\n",
      "    # I'm writing a header here just for the sake of readability\n",
      "    # Any line starting with \"#\" will be ignored by numpy.loadtxt\n",
      "    outfile.write('# Array shape: {0}\\n'.format(train_mini_dataset_array.shape))\n",
      "\n",
      "    # Iterating through a ndimensional array produces slices along\n",
      "    # the last axis. This is equivalent to data[i,:,:] in this case\n",
      "    for data_slice in train_mini_dataset_array:\n",
      "\n",
      "        # The formatting string indicates that I'm writing out\n",
      "        # the values in left-justified columns 7 characters in width\n",
      "        # with 2 decimal places.  \n",
      "        numpy.savetxt(outfile, data_slice, fmt='%-7.0f')\n",
      "\n",
      "        # Writing out a break to indicate different slices...\n",
      "        outfile.write('# New slice\\n')"
     ],
     "language": "python",
     "metadata": {},
     "outputs": []
    },
    {
     "cell_type": "code",
     "collapsed": false,
     "input": [
      "# Read the array from disk\n",
      "new_data = numpy.loadtxt('Manatee_dataset/train_mini_final.txt')\n",
      "\n",
      "# Note that this returned a 2D array!\n",
      "print new_data.shape\n",
      "\n",
      "# However, going back to 3D is easy if we know the \n",
      "# original shape of the array\n",
      "new_data = new_data.reshape((16037,64,128))\n",
      "\n",
      "# Just to check that they're the same...\n",
      "print numpy.all(new_data == train_mini_dataset_array)"
     ],
     "language": "python",
     "metadata": {},
     "outputs": []
    },
    {
     "cell_type": "code",
     "collapsed": false,
     "input": [
      "new_data.shape"
     ],
     "language": "python",
     "metadata": {},
     "outputs": []
    },
    {
     "cell_type": "code",
     "collapsed": false,
     "input": [
      "print numpy.all(new_data == train_mini_dataset_array)"
     ],
     "language": "python",
     "metadata": {},
     "outputs": []
    },
    {
     "cell_type": "code",
     "collapsed": false,
     "input": [
      "train_mini_labels_dataset_array = numpy.array(train_mini_dataset_labels)\n",
      "\n",
      "train_mini_labels_dataset_array.tofile('Manatee_dataset/train_labels_mini_final.txt',sep='\\n',format=\"%s\")"
     ],
     "language": "python",
     "metadata": {},
     "outputs": []
    },
    {
     "cell_type": "code",
     "collapsed": false,
     "input": [
      "# Read the array from disk\n",
      "new_data = numpy.loadtxt('Manatee_dataset/train_labels_mini_final.txt', dtype=str)\n",
      "\n",
      "# Note that this returned an array!\n",
      "print new_data.shape"
     ],
     "language": "python",
     "metadata": {},
     "outputs": []
    },
    {
     "cell_type": "code",
     "collapsed": false,
     "input": [
      "train_mini_labels_dataset_array.shape"
     ],
     "language": "python",
     "metadata": {},
     "outputs": []
    },
    {
     "cell_type": "code",
     "collapsed": false,
     "input": [
      "print numpy.all(new_data == train_mini_labels_dataset_array)"
     ],
     "language": "python",
     "metadata": {},
     "outputs": []
    },
    {
     "cell_type": "code",
     "collapsed": false,
     "input": [
      "test_mini_dataset_array = test_invert_mini_resized_array\n",
      "test_mini_labels_dataset_array = test_invert_mini_resized_labels_array"
     ],
     "language": "python",
     "metadata": {},
     "outputs": []
    },
    {
     "cell_type": "code",
     "collapsed": false,
     "input": [
      "\n",
      "# Write the array to disk\n",
      "with file('Manatee_dataset/test_mini_final.txt', 'w') as outfile:\n",
      "    # I'm writing a header here just for the sake of readability\n",
      "    # Any line starting with \"#\" will be ignored by numpy.loadtxt\n",
      "    outfile.write('# Array shape: {0}\\n'.format(test_mini_dataset_array.shape))\n",
      "\n",
      "    # Iterating through a ndimensional array produces slices along\n",
      "    # the last axis. This is equivalent to data[i,:,:] in this case\n",
      "    for data_slice in test_mini_dataset_array:\n",
      "\n",
      "        # The formatting string indicates that I'm writing out\n",
      "        # the values in left-justified columns 7 characters in width\n",
      "        # with 2 decimal places.  \n",
      "        numpy.savetxt(outfile, data_slice, fmt='%-7.0f')\n",
      "\n",
      "        # Writing out a break to indicate different slices...\n",
      "        outfile.write('# New slice\\n')"
     ],
     "language": "python",
     "metadata": {},
     "outputs": []
    },
    {
     "cell_type": "code",
     "collapsed": false,
     "input": [
      "# Read the array from disk\n",
      "new_data = numpy.loadtxt('Manatee_dataset/test_mini_final.txt')\n",
      "\n",
      "# Note that this returned a 2D array!\n",
      "print new_data.shape\n",
      "\n",
      "# However, going back to 3D is easy if we know the \n",
      "# original shape of the array\n",
      "new_data = new_data.reshape((122,64,128))\n",
      "\n",
      "# Just to check that they're the same...\n",
      "print numpy.all(new_data == test_mini_dataset_array)"
     ],
     "language": "python",
     "metadata": {},
     "outputs": []
    },
    {
     "cell_type": "code",
     "collapsed": false,
     "input": [
      "print new_data.shape"
     ],
     "language": "python",
     "metadata": {},
     "outputs": []
    },
    {
     "cell_type": "code",
     "collapsed": false,
     "input": [
      "\n",
      "test_mini_labels_dataset_array.tofile('Manatee_dataset/test_labels_mini_final.txt',sep='\\n',format=\"%s\")"
     ],
     "language": "python",
     "metadata": {},
     "outputs": []
    },
    {
     "cell_type": "code",
     "collapsed": false,
     "input": [
      "# Read the array from disk\n",
      "new_data = numpy.loadtxt('Manatee_dataset/test_labels_mini_final.txt', dtype=str)\n",
      "\n",
      "# Note that this returned an array!\n",
      "print new_data.shape"
     ],
     "language": "python",
     "metadata": {},
     "outputs": []
    },
    {
     "cell_type": "code",
     "collapsed": false,
     "input": [
      "print numpy.all(new_data == test_mini_labels_dataset_array)"
     ],
     "language": "python",
     "metadata": {},
     "outputs": []
    },
    {
     "cell_type": "code",
     "collapsed": false,
     "input": [
      "invert_resized = []\n",
      "invert_resized_labels = []\n",
      "infilepath=\"Manatee_dataset/preprocessed_and_augmented_train/invert_resized/\"\n",
      "for image in listdir(infilepath):\n",
      "    filename=infilepath+image\n",
      "    im = Image.open(filename)\n",
      "    #im = numpy.array(im)\n",
      "    #im = im.convert('L')\n",
      "    invert_resized.append(numpy.array(im))\n",
      "    #invert_resized.append(im)\n",
      "    invert_resized_labels.append(image[:-4])\n",
      "    #im = im.resize((54, 25), Image.ANTIALIAS)\n",
      "    #im.save(outfilepath+image)\n",
      "invert_resized_train_array = numpy.array(invert_resized)\n",
      "print invert_resized_train_array.shape\n",
      "invert_resized_labels_array = numpy.array(invert_resized_labels)\n",
      "print invert_resized_labels_array.shape\n",
      "print invert_resized_labels_array[0]"
     ],
     "language": "python",
     "metadata": {},
     "outputs": []
    },
    {
     "cell_type": "code",
     "collapsed": false,
     "input": [
      "mean_resized = []\n",
      "mean_resized_labels = []\n",
      "infilepath=\"Manatee_dataset/preprocessed_and_augmented_train/mean_resized/\"\n",
      "for image in listdir(infilepath):\n",
      "    filename=infilepath+image\n",
      "    im = Image.open(filename)\n",
      "    im = im.convert('L')\n",
      "    mean_resized.append(numpy.array(im))\n",
      "    mean_resized_labels.append(image[:-4])\n",
      "    #im = im.resize((54, 25), Image.ANTIALIAS)\n",
      "    #im.save(outfilepath+image)\n",
      "mean_resized_train_array = numpy.array(mean_resized)\n",
      "print mean_resized_train_array.shape    \n",
      "mean_resized_labels_array = numpy.array(mean_resized_labels)\n",
      "print mean_resized_labels_array.shape\n",
      "print mean_resized_labels_array[0]"
     ],
     "language": "python",
     "metadata": {},
     "outputs": []
    },
    {
     "cell_type": "code",
     "collapsed": false,
     "input": [
      "median_resized = []\n",
      "median_resized_labels = []\n",
      "infilepath=\"Manatee_dataset/preprocessed_and_augmented_train/median_resized/\"\n",
      "for image in listdir(infilepath):\n",
      "    filename=infilepath+image\n",
      "    im = Image.open(filename)\n",
      "    im = im.convert('L')\n",
      "    median_resized.append(numpy.array(im))\n",
      "    median_resized_labels.append(image[:-4])    \n",
      "    #im = im.resize((54, 25), Image.ANTIALIAS)\n",
      "    #im.save(outfilepath+image)\n",
      "median_resized_train_array = numpy.array(median_resized)\n",
      "print median_resized_train_array.shape\n",
      "median_resized_labels_array = numpy.array(median_resized_labels)\n",
      "print median_resized_labels_array.shape\n",
      "print median_resized_labels_array[0]"
     ],
     "language": "python",
     "metadata": {},
     "outputs": []
    },
    {
     "cell_type": "code",
     "collapsed": false,
     "input": [
      "test_invert_resized = []\n",
      "test_invert_resized_labels = []\n",
      "infilepath=\"Manatee_dataset/preprocessed_and_augmented_train/test_invert_resized/\"\n",
      "for image in listdir(infilepath):\n",
      "    filename=infilepath+image\n",
      "    im = Image.open(filename)\n",
      "    im = im.convert('L')\n",
      "    test_invert_resized.append(numpy.array(im))\n",
      "    test_invert_resized_labels.append(image[:-6])       \n",
      "    #im = im.resize((54, 25), Image.ANTIALIAS)\n",
      "    #im.save(outfilepath+image)\n",
      "test_invert_resized_array = numpy.array(test_invert_resized)\n",
      "print test_invert_resized_array.shape\n",
      "test_invert_resized_labels_array = numpy.array(test_invert_resized_labels)\n",
      "print test_invert_resized_labels_array.shape\n",
      "print test_invert_resized_labels_array[0]"
     ],
     "language": "python",
     "metadata": {},
     "outputs": []
    },
    {
     "cell_type": "code",
     "collapsed": false,
     "input": [
      "gabor_imaginary_resized = []\n",
      "gabor_imaginary_resized_labels = []\n",
      "infilepath=\"Manatee_dataset/preprocessed_and_augmented_train/gabor_imaginary_resized/\"\n",
      "for image in listdir(infilepath):\n",
      "    filename=infilepath+image\n",
      "    im = Image.open(filename)\n",
      "    im = im.convert('L')\n",
      "    gabor_imaginary_resized.append(numpy.array(im))\n",
      "    gabor_imaginary_resized_labels.append(image[:-4])    \n",
      "    #im = im.resize((54, 25), Image.ANTIALIAS)\n",
      "    #im.save(outfilepath+image)\n",
      "gabor_imaginary_resized_train_array = numpy.array(gabor_imaginary_resized)\n",
      "print gabor_imaginary_resized_train_array.shape\n",
      "gabor_imaginary_resized_labels_array = numpy.array(gabor_imaginary_resized_labels)\n",
      "print gabor_imaginary_resized_labels_array.shape\n",
      "print gabor_imaginary_resized_labels_array[0]"
     ],
     "language": "python",
     "metadata": {},
     "outputs": []
    },
    {
     "cell_type": "code",
     "collapsed": false,
     "input": [
      "gabor_real_resized = []\n",
      "gabor_real_resized_labels = []\n",
      "infilepath=\"Manatee_dataset/preprocessed_and_augmented_train/gabor_real_resized/\"\n",
      "for image in listdir(infilepath):\n",
      "    filename=infilepath+image\n",
      "    im = Image.open(filename)\n",
      "    im = im.convert('L')\n",
      "    gabor_real_resized.append(numpy.array(im))\n",
      "    gabor_real_resized_labels.append(image[:-4])    \n",
      "    #im = im.resize((54, 25), Image.ANTIALIAS)\n",
      "    #im.save(outfilepath+image)\n",
      "gabor_real_resized_train_array = numpy.array(gabor_real_resized)\n",
      "print gabor_real_resized_train_array.shape\n",
      "gabor_real_resized_labels_array = numpy.array(gabor_real_resized_labels)\n",
      "print gabor_real_resized_labels_array.shape\n",
      "print gabor_real_resized_labels_array[0]"
     ],
     "language": "python",
     "metadata": {},
     "outputs": []
    },
    {
     "cell_type": "code",
     "collapsed": false,
     "input": [
      "gaussian_mild_resized = []\n",
      "gaussian_mild_resized_labels = []\n",
      "infilepath=\"Manatee_dataset/preprocessed_and_augmented_train/gaussian_mild_resized/\"\n",
      "for image in listdir(infilepath):\n",
      "    filename=infilepath+image\n",
      "    im = Image.open(filename)\n",
      "    im = im.convert('L')\n",
      "    gaussian_mild_resized.append(numpy.array(im))\n",
      "    gaussian_mild_resized_labels.append(image[:-4])    \n",
      "    #im = im.resize((54, 25), Image.ANTIALIAS)\n",
      "    #im.save(outfilepath+image)\n",
      "gaussian_mild_resized_train_array = numpy.array(gaussian_mild_resized)\n",
      "print gaussian_mild_resized_train_array.shape\n",
      "gaussian_mild_resized_labels_array = numpy.array(gaussian_mild_resized_labels)\n",
      "print gaussian_mild_resized_labels_array.shape\n",
      "print gaussian_mild_resized_labels_array[0]"
     ],
     "language": "python",
     "metadata": {},
     "outputs": []
    },
    {
     "cell_type": "code",
     "collapsed": false,
     "input": [
      "gaussian_strong_resized = []\n",
      "gaussian_strong_resized_labels = []\n",
      "infilepath=\"Manatee_dataset/preprocessed_and_augmented_train/gaussian_strong_resized/\"\n",
      "for image in listdir(infilepath):\n",
      "    filename=infilepath+image\n",
      "    im = Image.open(filename)\n",
      "    im = im.convert('L')\n",
      "    gaussian_strong_resized.append(numpy.array(im))\n",
      "    gaussian_strong_resized_labels.append(image[:-4])    \n",
      "    #im = im.resize((54, 25), Image.ANTIALIAS)\n",
      "    #im.save(outfilepath+image)\n",
      "gaussian_strong_resized_train_array = numpy.array(gaussian_strong_resized)\n",
      "print gaussian_strong_resized_train_array.shape\n",
      "gaussian_strong_resized_labels_array = numpy.array(gaussian_strong_resized_labels)\n",
      "print gaussian_strong_resized_labels_array.shape\n",
      "print gaussian_strong_resized_labels_array[0]"
     ],
     "language": "python",
     "metadata": {},
     "outputs": []
    },
    {
     "cell_type": "code",
     "collapsed": false,
     "input": [
      "train_dataset = []\n",
      "train_dataset_labels = []\n",
      "for i in range(2291):\n",
      "    train_dataset.append(invert_resized_train_array[i])\n",
      "    train_dataset.append(mean_resized_train_array[i])\n",
      "    train_dataset.append(median_resized_train_array[i])\n",
      "    train_dataset.append(gabor_imaginary_resized_train_array[i])\n",
      "    train_dataset.append(gabor_real_resized_train_array[i])\n",
      "    train_dataset.append(gaussian_mild_resized_train_array[i])\n",
      "    train_dataset.append(gaussian_strong_resized_train_array[i])\n",
      "    train_dataset_labels.append(invert_resized_labels_array[i])\n",
      "    train_dataset_labels.append(mean_resized_labels_array[i])\n",
      "    train_dataset_labels.append(median_resized_labels_array[i])\n",
      "    train_dataset_labels.append(gabor_imaginary_resized_labels_array[i])\n",
      "    train_dataset_labels.append(gabor_real_resized_labels_array[i])\n",
      "    train_dataset_labels.append(gaussian_mild_resized_labels_array[i])\n",
      "    train_dataset_labels.append(gaussian_strong_resized_labels_array[i])"
     ],
     "language": "python",
     "metadata": {},
     "outputs": []
    },
    {
     "cell_type": "code",
     "collapsed": false,
     "input": [
      "print numpy.array(train_dataset).shape\n",
      "print numpy.array(train_dataset_labels).shape"
     ],
     "language": "python",
     "metadata": {},
     "outputs": []
    },
    {
     "cell_type": "code",
     "collapsed": false,
     "input": [
      "train_dataset_array = numpy.array(train_dataset)\n",
      "# Write the array to disk\n",
      "with file('Manatee_dataset/train_final.txt', 'w') as outfile:\n",
      "    # I'm writing a header here just for the sake of readability\n",
      "    # Any line starting with \"#\" will be ignored by numpy.loadtxt\n",
      "    outfile.write('# Array shape: {0}\\n'.format(train_dataset_array.shape))\n",
      "\n",
      "    # Iterating through a ndimensional array produces slices along\n",
      "    # the last axis. This is equivalent to data[i,:,:] in this case\n",
      "    i=0\n",
      "    for data_slice in train_dataset_array:\n",
      "\n",
      "        # The formatting string indicates that I'm writing out\n",
      "        # the values in left-justified columns 7 characters in width\n",
      "        # with 2 decimal places.  \n",
      "        numpy.savetxt(outfile, data_slice, fmt='%-7.0f')\n",
      "        i=i+1\n",
      "        if i%100==0:\n",
      "            print i\n",
      "        # Writing out a break to indicate different slices...\n",
      "        outfile.write('# New slice\\n')"
     ],
     "language": "python",
     "metadata": {},
     "outputs": []
    },
    {
     "cell_type": "code",
     "collapsed": false,
     "input": [
      "%%time\n",
      "# Read the array from disk\n",
      "import numpy\n",
      "new_data = numpy.loadtxt('Manatee_dataset/train_final.txt')\n",
      "# Note that this returned a 2D array!\n",
      "print new_data.shape\n",
      "\n",
      "# However, going back to 3D is easy if we know the \n",
      "# original shape of the array\n",
      "new_data = new_data.reshape((16037,128,256))\n",
      "\n",
      "# Just to check that they're the same...\n",
      "print numpy.all(new_data == train_dataset_array)\n",
      "print new_data.shape"
     ],
     "language": "python",
     "metadata": {},
     "outputs": []
    },
    {
     "cell_type": "code",
     "collapsed": false,
     "input": [
      "train_labels_dataset_array = numpy.array(train_dataset_labels)\n",
      "\n",
      "train_labels_dataset_array.tofile('Manatee_dataset/train_labels_final.txt',sep='\\n',format=\"%s\")"
     ],
     "language": "python",
     "metadata": {},
     "outputs": []
    },
    {
     "cell_type": "code",
     "collapsed": false,
     "input": [
      "# Read the array from disk\n",
      "new_data = numpy.loadtxt('Manatee_dataset/train_labels_final.txt', dtype=str)\n",
      "\n",
      "# Note that this returned an array!\n",
      "print new_data.shape\n",
      "print numpy.all(new_data == train_labels_dataset_array)"
     ],
     "language": "python",
     "metadata": {},
     "outputs": []
    },
    {
     "cell_type": "code",
     "collapsed": false,
     "input": [
      "test_dataset_array = test_invert_resized_array\n",
      "test_labels_dataset_array = test_invert_resized_labels_array"
     ],
     "language": "python",
     "metadata": {},
     "outputs": []
    },
    {
     "cell_type": "code",
     "collapsed": false,
     "input": [
      "# Write the array to disk\n",
      "with file('Manatee_dataset/test_final.txt', 'w') as outfile:\n",
      "    # I'm writing a header here just for the sake of readability\n",
      "    # Any line starting with \"#\" will be ignored by numpy.loadtxt\n",
      "    outfile.write('# Array shape: {0}\\n'.format(test_dataset_array.shape))\n",
      "\n",
      "    # Iterating through a ndimensional array produces slices along\n",
      "    # the last axis. This is equivalent to data[i,:,:] in this case\n",
      "    for data_slice in test_dataset_array:\n",
      "\n",
      "        # The formatting string indicates that I'm writing out\n",
      "        # the values in left-justified columns 7 characters in width\n",
      "        # with 2 decimal places.  \n",
      "        numpy.savetxt(outfile, data_slice, fmt='%-7.0f')\n",
      "\n",
      "        # Writing out a break to indicate different slices...\n",
      "        outfile.write('# New slice\\n')"
     ],
     "language": "python",
     "metadata": {},
     "outputs": []
    },
    {
     "cell_type": "code",
     "collapsed": false,
     "input": [
      "# Read the array from disk\n",
      "new_data = numpy.loadtxt('Manatee_dataset/test_final.txt')\n",
      "\n",
      "# Note that this returned a 2D array!\n",
      "print new_data.shape\n",
      "\n",
      "# However, going back to 3D is easy if we know the \n",
      "# original shape of the array\n",
      "new_data = new_data.reshape((122,128,256))\n",
      "\n",
      "# Just to check that they're the same...\n",
      "print numpy.all(new_data == test_dataset_array)\n",
      "print new_data.shape"
     ],
     "language": "python",
     "metadata": {},
     "outputs": []
    },
    {
     "cell_type": "code",
     "collapsed": false,
     "input": [
      "\n",
      "test_labels_dataset_array.tofile('Manatee_dataset/test_labels_final.txt',sep='\\n',format=\"%s\")"
     ],
     "language": "python",
     "metadata": {},
     "outputs": []
    },
    {
     "cell_type": "code",
     "collapsed": false,
     "input": [
      "# Read the array from disk\n",
      "new_data = numpy.loadtxt('Manatee_dataset/test_labels_final.txt', dtype=str)\n",
      "\n",
      "# Note that this returned an array!\n",
      "print new_data.shape"
     ],
     "language": "python",
     "metadata": {},
     "outputs": []
    },
    {
     "cell_type": "code",
     "collapsed": false,
     "input": [
      "new_data = numpy.loadtxt('Manatee_dataset/train_mini.txt')\n",
      "\n",
      "# Note that this returned a 2D array!\n",
      "print new_data.shape\n",
      "\n",
      "# However, going back to 3D is easy if we know the \n",
      "# original shape of the array\n",
      "new_data = new_data.reshape((16037,25,54))"
     ],
     "language": "python",
     "metadata": {},
     "outputs": []
    },
    {
     "cell_type": "code",
     "collapsed": false,
     "input": [
      "plt.imshow(invert_resized_train_array[0], cmap='gray', interpolation='nearest')"
     ],
     "language": "python",
     "metadata": {},
     "outputs": []
    },
    {
     "cell_type": "code",
     "collapsed": false,
     "input": [
      "#invert_mini_resized_labels_array[0]"
     ],
     "language": "python",
     "metadata": {},
     "outputs": []
    },
    {
     "cell_type": "code",
     "collapsed": false,
     "input": [
      "#invert_resized_labels_array[0]"
     ],
     "language": "python",
     "metadata": {},
     "outputs": []
    },
    {
     "cell_type": "code",
     "collapsed": false,
     "input": [],
     "language": "python",
     "metadata": {},
     "outputs": []
    }
   ],
   "metadata": {}
  }
 ]
}