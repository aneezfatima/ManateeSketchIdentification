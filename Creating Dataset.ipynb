{
 "metadata": {
  "name": "",
  "signature": "sha256:c08405e427e7c3a30c9dd103375fbc14262871012cf1d6d877fe4070e0e91a67"
 },
 "nbformat": 3,
 "nbformat_minor": 0,
 "worksheets": [
  {
   "cells": [
    {
     "cell_type": "code",
     "collapsed": false,
     "input": [
      "from skimage import data,io,filters\n",
      "from os import listdir,system\n",
      "import shutil\n",
      "import matplotlib.pyplot as plt\n",
      "%matplotlib inline\n",
      "import numpy\n",
      "from PIL import Image"
     ],
     "language": "python",
     "metadata": {},
     "outputs": [],
     "prompt_number": 1
    },
    {
     "cell_type": "code",
     "collapsed": false,
     "input": [
      "invert_mini_resized = []\n",
      "invert_mini_resized_labels = []"
     ],
     "language": "python",
     "metadata": {},
     "outputs": [],
     "prompt_number": 2
    },
    {
     "cell_type": "code",
     "collapsed": false,
     "input": [
      "infilepath=\"Manatee_dataset/preprocessed_and_augmented_train/invert_mini_resized/\"\n",
      "for image in listdir(infilepath):\n",
      "    filename=infilepath+image\n",
      "    im = Image.open(filename)\n",
      "    #im = numpy.array(im)\n",
      "    im = im.convert('L')\n",
      "    invert_mini_resized.append(numpy.array(im))\n",
      "    #invert_mini_resized.append(im)\n",
      "    invert_mini_resized_labels.append(image[:-4])\n",
      "    #im = im.resize((54, 25), Image.ANTIALIAS)\n",
      "    #im.save(outfilepath+image)"
     ],
     "language": "python",
     "metadata": {},
     "outputs": [],
     "prompt_number": 3
    },
    {
     "cell_type": "code",
     "collapsed": false,
     "input": [
      "invert_mini_resized_train_array = numpy.array(invert_mini_resized)\n",
      "print invert_mini_resized_train_array.shape\n",
      "invert_mini_resized_labels_array = numpy.array(invert_mini_resized_labels)\n",
      "print invert_mini_resized_labels_array.shape\n",
      "print invert_mini_resized_labels_array[0]"
     ],
     "language": "python",
     "metadata": {},
     "outputs": [
      {
       "output_type": "stream",
       "stream": "stdout",
       "text": [
        "(2291, 25, 54)\n",
        "(2291,)\n",
        "U2194\n"
       ]
      }
     ],
     "prompt_number": 4
    },
    {
     "cell_type": "code",
     "collapsed": false,
     "input": [
      "mean_mini_resized = []\n",
      "mean_mini_resized_labels = []\n",
      "infilepath=\"Manatee_dataset/preprocessed_and_augmented_train/mean_mini_resized/\"\n",
      "for image in listdir(infilepath):\n",
      "    filename=infilepath+image\n",
      "    im = Image.open(filename)\n",
      "    im = im.convert('L')\n",
      "    mean_mini_resized.append(numpy.array(im))\n",
      "    mean_mini_resized_labels.append(image[:-4])\n",
      "    #im = im.resize((54, 25), Image.ANTIALIAS)\n",
      "    #im.save(outfilepath+image)\n",
      "mean_mini_resized_train_array = numpy.array(mean_mini_resized)\n",
      "print mean_mini_resized_train_array.shape    \n",
      "mean_mini_resized_labels_array = numpy.array(mean_mini_resized_labels)\n",
      "print mean_mini_resized_labels_array.shape\n",
      "print mean_mini_resized_labels_array[0]"
     ],
     "language": "python",
     "metadata": {},
     "outputs": [
      {
       "output_type": "stream",
       "stream": "stdout",
       "text": [
        "(2291, 25, 54)\n",
        "(2291,)\n",
        "U2194\n"
       ]
      }
     ],
     "prompt_number": 5
    },
    {
     "cell_type": "code",
     "collapsed": false,
     "input": [
      "median_mini_resized = []\n",
      "median_mini_resized_labels = []\n",
      "infilepath=\"Manatee_dataset/preprocessed_and_augmented_train/median_mini_resized/\"\n",
      "for image in listdir(infilepath):\n",
      "    filename=infilepath+image\n",
      "    im = Image.open(filename)\n",
      "    im = im.convert('L')\n",
      "    median_mini_resized.append(numpy.array(im))\n",
      "    median_mini_resized_labels.append(image[:-4])    \n",
      "    #im = im.resize((54, 25), Image.ANTIALIAS)\n",
      "    #im.save(outfilepath+image)\n",
      "median_mini_resized_train_array = numpy.array(median_mini_resized)\n",
      "print median_mini_resized_train_array.shape\n",
      "median_mini_resized_labels_array = numpy.array(median_mini_resized_labels)\n",
      "print median_mini_resized_labels_array.shape\n",
      "print median_mini_resized_labels_array[0]"
     ],
     "language": "python",
     "metadata": {},
     "outputs": [
      {
       "output_type": "stream",
       "stream": "stdout",
       "text": [
        "(2291, 25, 54)\n",
        "(2291,)\n",
        "U2194\n"
       ]
      }
     ],
     "prompt_number": 6
    },
    {
     "cell_type": "code",
     "collapsed": false,
     "input": [
      "test_invert_mini_resized = []\n",
      "test_invert_mini_resized_labels = []\n",
      "infilepath=\"Manatee_dataset/preprocessed_and_augmented_train/test_invert_mini_resized/\"\n",
      "for image in listdir(infilepath):\n",
      "    filename=infilepath+image\n",
      "    im = Image.open(filename)\n",
      "    im = im.convert('L')\n",
      "    test_invert_mini_resized.append(numpy.array(im))\n",
      "    test_invert_mini_resized_labels.append(image[:-6])       \n",
      "    #im = im.resize((54, 25), Image.ANTIALIAS)\n",
      "    #im.save(outfilepath+image)\n",
      "test_invert_mini_resized_array = numpy.array(test_invert_mini_resized)\n",
      "print test_invert_mini_resized_array.shape\n",
      "test_invert_mini_resized_labels_array = numpy.array(test_invert_mini_resized_labels)\n",
      "print test_invert_mini_resized_labels_array.shape\n",
      "print test_invert_mini_resized_labels_array[0]"
     ],
     "language": "python",
     "metadata": {},
     "outputs": [
      {
       "output_type": "stream",
       "stream": "stdout",
       "text": [
        "(122, 25, 54)\n",
        "(122,)\n",
        "U2967\n"
       ]
      }
     ],
     "prompt_number": 7
    },
    {
     "cell_type": "code",
     "collapsed": false,
     "input": [
      "gabor_imaginary_mini_resized = []\n",
      "gabor_imaginary_mini_resized_labels = []\n",
      "infilepath=\"Manatee_dataset/preprocessed_and_augmented_train/gabor_imaginary_mini_resized/\"\n",
      "for image in listdir(infilepath):\n",
      "    filename=infilepath+image\n",
      "    im = Image.open(filename)\n",
      "    im = im.convert('L')\n",
      "    gabor_imaginary_mini_resized.append(numpy.array(im))\n",
      "    gabor_imaginary_mini_resized_labels.append(image[:-4])    \n",
      "    #im = im.resize((54, 25), Image.ANTIALIAS)\n",
      "    #im.save(outfilepath+image)\n",
      "gabor_imaginary_mini_resized_train_array = numpy.array(gabor_imaginary_mini_resized)\n",
      "print gabor_imaginary_mini_resized_train_array.shape\n",
      "gabor_imaginary_mini_resized_labels_array = numpy.array(gabor_imaginary_mini_resized_labels)\n",
      "print gabor_imaginary_mini_resized_labels_array.shape\n",
      "print gabor_imaginary_mini_resized_labels_array[0]"
     ],
     "language": "python",
     "metadata": {},
     "outputs": [
      {
       "output_type": "stream",
       "stream": "stdout",
       "text": [
        "(2291, 25, 54)\n",
        "(2291,)\n",
        "U2194\n"
       ]
      }
     ],
     "prompt_number": 8
    },
    {
     "cell_type": "code",
     "collapsed": false,
     "input": [
      "gabor_real_mini_resized = []\n",
      "gabor_real_mini_resized_labels = []\n",
      "infilepath=\"Manatee_dataset/preprocessed_and_augmented_train/gabor_real_mini_resized/\"\n",
      "for image in listdir(infilepath):\n",
      "    filename=infilepath+image\n",
      "    im = Image.open(filename)\n",
      "    im = im.convert('L')\n",
      "    gabor_real_mini_resized.append(numpy.array(im))\n",
      "    gabor_real_mini_resized_labels.append(image[:-4])    \n",
      "    #im = im.resize((54, 25), Image.ANTIALIAS)\n",
      "    #im.save(outfilepath+image)\n",
      "gabor_real_mini_resized_train_array = numpy.array(gabor_real_mini_resized)\n",
      "print gabor_real_mini_resized_train_array.shape\n",
      "gabor_real_mini_resized_labels_array = numpy.array(gabor_real_mini_resized_labels)\n",
      "print gabor_real_mini_resized_labels_array.shape\n",
      "print gabor_real_mini_resized_labels_array[0]"
     ],
     "language": "python",
     "metadata": {},
     "outputs": [
      {
       "output_type": "stream",
       "stream": "stdout",
       "text": [
        "(2291, 25, 54)\n",
        "(2291,)\n",
        "U2194\n"
       ]
      }
     ],
     "prompt_number": 9
    },
    {
     "cell_type": "code",
     "collapsed": false,
     "input": [
      "gaussian_mild_mini_resized = []\n",
      "gaussian_mild_mini_resized_labels = []\n",
      "infilepath=\"Manatee_dataset/preprocessed_and_augmented_train/gaussian_mild_mini_resized/\"\n",
      "for image in listdir(infilepath):\n",
      "    filename=infilepath+image\n",
      "    im = Image.open(filename)\n",
      "    im = im.convert('L')\n",
      "    gaussian_mild_mini_resized.append(numpy.array(im))\n",
      "    gaussian_mild_mini_resized_labels.append(image[:-4])    \n",
      "    #im = im.resize((54, 25), Image.ANTIALIAS)\n",
      "    #im.save(outfilepath+image)\n",
      "gaussian_mild_mini_resized_train_array = numpy.array(gaussian_mild_mini_resized)\n",
      "print gaussian_mild_mini_resized_train_array.shape\n",
      "gaussian_mild_mini_resized_labels_array = numpy.array(gaussian_mild_mini_resized_labels)\n",
      "print gaussian_mild_mini_resized_labels_array.shape\n",
      "print gaussian_mild_mini_resized_labels_array[0]"
     ],
     "language": "python",
     "metadata": {},
     "outputs": [
      {
       "output_type": "stream",
       "stream": "stdout",
       "text": [
        "(2291, 25, 54)\n",
        "(2291,)\n",
        "U2194\n"
       ]
      }
     ],
     "prompt_number": 10
    },
    {
     "cell_type": "code",
     "collapsed": false,
     "input": [
      "gaussian_strong_mini_resized = []\n",
      "gaussian_strong_mini_resized_labels = []\n",
      "infilepath=\"Manatee_dataset/preprocessed_and_augmented_train/gaussian_strong_mini_resized/\"\n",
      "for image in listdir(infilepath):\n",
      "    filename=infilepath+image\n",
      "    im = Image.open(filename)\n",
      "    im = im.convert('L')\n",
      "    gaussian_strong_mini_resized.append(numpy.array(im))\n",
      "    gaussian_strong_mini_resized_labels.append(image[:-4])    \n",
      "    #im = im.resize((54, 25), Image.ANTIALIAS)\n",
      "    #im.save(outfilepath+image)\n",
      "gaussian_strong_mini_resized_train_array = numpy.array(gaussian_strong_mini_resized)\n",
      "print gaussian_strong_mini_resized_train_array.shape\n",
      "gaussian_strong_mini_resized_labels_array = numpy.array(gaussian_strong_mini_resized_labels)\n",
      "print gaussian_strong_mini_resized_labels_array.shape\n",
      "print gaussian_strong_mini_resized_labels_array[0]"
     ],
     "language": "python",
     "metadata": {},
     "outputs": [
      {
       "output_type": "stream",
       "stream": "stdout",
       "text": [
        "(2291, 25, 54)\n",
        "(2291,)\n",
        "U2194\n"
       ]
      }
     ],
     "prompt_number": 11
    },
    {
     "cell_type": "code",
     "collapsed": false,
     "input": [
      "train_mini_dataset = []\n",
      "train_mini_dataset.append(invert_mini_resized_train_array[0])\n",
      "train_mini_dataset.append(mean_mini_resized_train_array[0])\n",
      "train_mini_dataset.append(median_mini_resized_train_array[0])\n",
      "train_mini_dataset.append(gabor_imaginary_mini_resized_train_array[0])\n",
      "train_mini_dataset.append(gabor_real_mini_resized_train_array[0])\n",
      "train_mini_dataset.append(gaussian_mild_mini_resized_train_array[0])\n",
      "train_mini_dataset.append(gaussian_strong_mini_resized_train_array[0])\n",
      "print numpy.array(train_mini_dataset).shape"
     ],
     "language": "python",
     "metadata": {},
     "outputs": [
      {
       "output_type": "stream",
       "stream": "stdout",
       "text": [
        "(7, 25, 54)\n"
       ]
      }
     ],
     "prompt_number": 12
    },
    {
     "cell_type": "code",
     "collapsed": false,
     "input": [
      "train_mini_dataset_labels = []\n",
      "train_mini_dataset_labels.append(invert_mini_resized_labels_array[0])\n",
      "train_mini_dataset_labels.append(mean_mini_resized_labels_array[0])\n",
      "train_mini_dataset_labels.append(median_mini_resized_labels_array[0])\n",
      "train_mini_dataset_labels.append(gabor_imaginary_mini_resized_labels_array[0])\n",
      "train_mini_dataset_labels.append(gabor_real_mini_resized_labels_array[0])\n",
      "train_mini_dataset_labels.append(gaussian_mild_mini_resized_labels_array[0])\n",
      "train_mini_dataset_labels.append(gaussian_strong_mini_resized_labels_array[0])\n",
      "print numpy.array(train_mini_dataset_labels)"
     ],
     "language": "python",
     "metadata": {},
     "outputs": [
      {
       "output_type": "stream",
       "stream": "stdout",
       "text": [
        "['U2194' 'U2194' 'U2194' 'U2194' 'U2194' 'U2194' 'U2194']\n"
       ]
      }
     ],
     "prompt_number": 13
    },
    {
     "cell_type": "code",
     "collapsed": false,
     "input": [
      "train_mini_dataset = []\n",
      "train_mini_dataset_labels = []\n",
      "for i in range(2291):\n",
      "    train_mini_dataset.append(invert_mini_resized_train_array[i])\n",
      "    train_mini_dataset.append(mean_mini_resized_train_array[i])\n",
      "    train_mini_dataset.append(median_mini_resized_train_array[i])\n",
      "    train_mini_dataset.append(gabor_imaginary_mini_resized_train_array[i])\n",
      "    train_mini_dataset.append(gabor_real_mini_resized_train_array[i])\n",
      "    train_mini_dataset.append(gaussian_mild_mini_resized_train_array[i])\n",
      "    train_mini_dataset.append(gaussian_strong_mini_resized_train_array[i])\n",
      "    train_mini_dataset_labels.append(invert_mini_resized_labels_array[i])\n",
      "    train_mini_dataset_labels.append(mean_mini_resized_labels_array[i])\n",
      "    train_mini_dataset_labels.append(median_mini_resized_labels_array[i])\n",
      "    train_mini_dataset_labels.append(gabor_imaginary_mini_resized_labels_array[i])\n",
      "    train_mini_dataset_labels.append(gabor_real_mini_resized_labels_array[i])\n",
      "    train_mini_dataset_labels.append(gaussian_mild_mini_resized_labels_array[i])\n",
      "    train_mini_dataset_labels.append(gaussian_strong_mini_resized_labels_array[i])\n",
      "    "
     ],
     "language": "python",
     "metadata": {},
     "outputs": [],
     "prompt_number": 14
    },
    {
     "cell_type": "code",
     "collapsed": false,
     "input": [
      "print numpy.array(train_mini_dataset).shape"
     ],
     "language": "python",
     "metadata": {},
     "outputs": [
      {
       "output_type": "stream",
       "stream": "stdout",
       "text": [
        "(16037, 25, 54)\n"
       ]
      }
     ],
     "prompt_number": 15
    },
    {
     "cell_type": "code",
     "collapsed": false,
     "input": [
      "print numpy.array(train_mini_dataset_labels).shape"
     ],
     "language": "python",
     "metadata": {},
     "outputs": [
      {
       "output_type": "stream",
       "stream": "stdout",
       "text": [
        "(16037,)\n"
       ]
      }
     ],
     "prompt_number": 16
    },
    {
     "cell_type": "code",
     "collapsed": false,
     "input": [
      "train_mini_dataset_array = numpy.array(train_mini_dataset)\n",
      "# Write the array to disk\n",
      "with file('Manatee_dataset/train_mini.txt', 'w') as outfile:\n",
      "    # I'm writing a header here just for the sake of readability\n",
      "    # Any line starting with \"#\" will be ignored by numpy.loadtxt\n",
      "    outfile.write('# Array shape: {0}\\n'.format(train_mini_dataset_array.shape))\n",
      "\n",
      "    # Iterating through a ndimensional array produces slices along\n",
      "    # the last axis. This is equivalent to data[i,:,:] in this case\n",
      "    for data_slice in train_mini_dataset_array:\n",
      "\n",
      "        # The formatting string indicates that I'm writing out\n",
      "        # the values in left-justified columns 7 characters in width\n",
      "        # with 2 decimal places.  \n",
      "        numpy.savetxt(outfile, data_slice, fmt='%-7.0f')\n",
      "\n",
      "        # Writing out a break to indicate different slices...\n",
      "        outfile.write('# New slice\\n')"
     ],
     "language": "python",
     "metadata": {},
     "outputs": [],
     "prompt_number": 17
    },
    {
     "cell_type": "code",
     "collapsed": false,
     "input": [
      "# Read the array from disk\n",
      "new_data = numpy.loadtxt('Manatee_dataset/train_mini.txt')\n",
      "\n",
      "# Note that this returned a 2D array!\n",
      "print new_data.shape\n",
      "\n",
      "# However, going back to 3D is easy if we know the \n",
      "# original shape of the array\n",
      "new_data = new_data.reshape((16037,25,54))\n",
      "\n",
      "# Just to check that they're the same...\n",
      "print numpy.all(new_data == train_mini_dataset_array)"
     ],
     "language": "python",
     "metadata": {},
     "outputs": [
      {
       "output_type": "stream",
       "stream": "stdout",
       "text": [
        "(400925, 54)\n"
       ]
      }
     ],
     "prompt_number": 18
    },
    {
     "cell_type": "code",
     "collapsed": false,
     "input": [
      "new_data.shape"
     ],
     "language": "python",
     "metadata": {},
     "outputs": [
      {
       "metadata": {},
       "output_type": "pyout",
       "prompt_number": 19,
       "text": [
        "(16037, 25, 54)"
       ]
      }
     ],
     "prompt_number": 19
    },
    {
     "cell_type": "code",
     "collapsed": false,
     "input": [
      "print numpy.all(new_data == train_mini_dataset_array)"
     ],
     "language": "python",
     "metadata": {},
     "outputs": [
      {
       "output_type": "stream",
       "stream": "stdout",
       "text": [
        "True\n"
       ]
      }
     ],
     "prompt_number": 20
    },
    {
     "cell_type": "code",
     "collapsed": false,
     "input": [
      "train_mini_labels_dataset_array = numpy.array(train_mini_dataset_labels)\n",
      "\n",
      "train_mini_labels_dataset_array.tofile('Manatee_dataset/train_labels_mini.txt',sep='\\n',format=\"%s\")"
     ],
     "language": "python",
     "metadata": {},
     "outputs": [],
     "prompt_number": 23
    },
    {
     "cell_type": "code",
     "collapsed": false,
     "input": [
      "# Read the array from disk\n",
      "new_data = numpy.loadtxt('Manatee_dataset/train_labels_mini.txt', dtype=str)\n",
      "\n",
      "# Note that this returned an array!\n",
      "print new_data.shape"
     ],
     "language": "python",
     "metadata": {},
     "outputs": [
      {
       "output_type": "stream",
       "stream": "stdout",
       "text": [
        "(16037,)\n"
       ]
      }
     ],
     "prompt_number": 30
    },
    {
     "cell_type": "code",
     "collapsed": false,
     "input": [
      "train_mini_labels_dataset_array.shape"
     ],
     "language": "python",
     "metadata": {},
     "outputs": [
      {
       "metadata": {},
       "output_type": "pyout",
       "prompt_number": 31,
       "text": [
        "(16037,)"
       ]
      }
     ],
     "prompt_number": 31
    },
    {
     "cell_type": "code",
     "collapsed": false,
     "input": [
      "print numpy.all(new_data == train_mini_labels_dataset_array)"
     ],
     "language": "python",
     "metadata": {},
     "outputs": [
      {
       "output_type": "stream",
       "stream": "stdout",
       "text": [
        "True\n"
       ]
      }
     ],
     "prompt_number": 33
    },
    {
     "cell_type": "code",
     "collapsed": false,
     "input": [
      "test_mini_dataset_array = test_invert_mini_resized_array\n",
      "test_mini_labels_dataset_array = test_invert_mini_resized_labels_array"
     ],
     "language": "python",
     "metadata": {},
     "outputs": [],
     "prompt_number": 34
    },
    {
     "cell_type": "code",
     "collapsed": false,
     "input": [
      "\n",
      "# Write the array to disk\n",
      "with file('Manatee_dataset/test_mini.txt', 'w') as outfile:\n",
      "    # I'm writing a header here just for the sake of readability\n",
      "    # Any line starting with \"#\" will be ignored by numpy.loadtxt\n",
      "    outfile.write('# Array shape: {0}\\n'.format(test_mini_dataset_array.shape))\n",
      "\n",
      "    # Iterating through a ndimensional array produces slices along\n",
      "    # the last axis. This is equivalent to data[i,:,:] in this case\n",
      "    for data_slice in test_mini_dataset_array:\n",
      "\n",
      "        # The formatting string indicates that I'm writing out\n",
      "        # the values in left-justified columns 7 characters in width\n",
      "        # with 2 decimal places.  \n",
      "        numpy.savetxt(outfile, data_slice, fmt='%-7.0f')\n",
      "\n",
      "        # Writing out a break to indicate different slices...\n",
      "        outfile.write('# New slice\\n')"
     ],
     "language": "python",
     "metadata": {},
     "outputs": [],
     "prompt_number": 35
    },
    {
     "cell_type": "code",
     "collapsed": false,
     "input": [
      "# Read the array from disk\n",
      "new_data = numpy.loadtxt('Manatee_dataset/test_mini.txt')\n",
      "\n",
      "# Note that this returned a 2D array!\n",
      "print new_data.shape\n",
      "\n",
      "# However, going back to 3D is easy if we know the \n",
      "# original shape of the array\n",
      "new_data = new_data.reshape((122,25,54))\n",
      "\n",
      "# Just to check that they're the same...\n",
      "print numpy.all(new_data == test_mini_dataset_array)"
     ],
     "language": "python",
     "metadata": {},
     "outputs": [
      {
       "output_type": "stream",
       "stream": "stdout",
       "text": [
        "(3050, 54)\n",
        "True\n"
       ]
      }
     ],
     "prompt_number": 36
    },
    {
     "cell_type": "code",
     "collapsed": false,
     "input": [
      "print new_data.shape"
     ],
     "language": "python",
     "metadata": {},
     "outputs": [
      {
       "output_type": "stream",
       "stream": "stdout",
       "text": [
        "(122, 25, 54)\n"
       ]
      }
     ],
     "prompt_number": 37
    },
    {
     "cell_type": "code",
     "collapsed": false,
     "input": [
      "\n",
      "test_mini_labels_dataset_array.tofile('Manatee_dataset/test_labels_mini.txt',sep='\\n',format=\"%s\")"
     ],
     "language": "python",
     "metadata": {},
     "outputs": [],
     "prompt_number": 39
    },
    {
     "cell_type": "code",
     "collapsed": false,
     "input": [
      "# Read the array from disk\n",
      "new_data = numpy.loadtxt('Manatee_dataset/test_labels_mini.txt', dtype=str)\n",
      "\n",
      "# Note that this returned an array!\n",
      "print new_data.shape"
     ],
     "language": "python",
     "metadata": {},
     "outputs": [
      {
       "output_type": "stream",
       "stream": "stdout",
       "text": [
        "(122,)\n"
       ]
      }
     ],
     "prompt_number": 40
    },
    {
     "cell_type": "code",
     "collapsed": false,
     "input": [
      "print numpy.all(new_data == test_mini_labels_dataset_array)"
     ],
     "language": "python",
     "metadata": {},
     "outputs": [
      {
       "output_type": "stream",
       "stream": "stdout",
       "text": [
        "True\n"
       ]
      }
     ],
     "prompt_number": 42
    },
    {
     "cell_type": "code",
     "collapsed": false,
     "input": [
      "invert_resized = []\n",
      "invert_resized_labels = []\n",
      "infilepath=\"Manatee_dataset/preprocessed_and_augmented_train/invert_resized/\"\n",
      "for image in listdir(infilepath):\n",
      "    filename=infilepath+image\n",
      "    im = Image.open(filename)\n",
      "    #im = numpy.array(im)\n",
      "    im = im.convert('L')\n",
      "    invert_resized.append(numpy.array(im))\n",
      "    #invert_resized.append(im)\n",
      "    invert_resized_labels.append(image[:-4])\n",
      "    #im = im.resize((54, 25), Image.ANTIALIAS)\n",
      "    #im.save(outfilepath+image)\n",
      "invert_resized_train_array = numpy.array(invert_resized)\n",
      "print invert_resized_train_array.shape\n",
      "invert_resized_labels_array = numpy.array(invert_resized_labels)\n",
      "print invert_resized_labels_array.shape\n",
      "print invert_resized_labels_array[0]"
     ],
     "language": "python",
     "metadata": {},
     "outputs": [
      {
       "output_type": "stream",
       "stream": "stdout",
       "text": [
        "(2291, 250, 540)\n",
        "(2291,)\n",
        "U2194\n"
       ]
      }
     ],
     "prompt_number": 2
    },
    {
     "cell_type": "code",
     "collapsed": false,
     "input": [
      "mean_resized = []\n",
      "mean_resized_labels = []\n",
      "infilepath=\"Manatee_dataset/preprocessed_and_augmented_train/mean_resized/\"\n",
      "for image in listdir(infilepath):\n",
      "    filename=infilepath+image\n",
      "    im = Image.open(filename)\n",
      "    im = im.convert('L')\n",
      "    mean_resized.append(numpy.array(im))\n",
      "    mean_resized_labels.append(image[:-4])\n",
      "    #im = im.resize((54, 25), Image.ANTIALIAS)\n",
      "    #im.save(outfilepath+image)\n",
      "mean_resized_train_array = numpy.array(mean_resized)\n",
      "print mean_resized_train_array.shape    \n",
      "mean_resized_labels_array = numpy.array(mean_resized_labels)\n",
      "print mean_resized_labels_array.shape\n",
      "print mean_resized_labels_array[0]"
     ],
     "language": "python",
     "metadata": {},
     "outputs": [
      {
       "output_type": "stream",
       "stream": "stdout",
       "text": [
        "(2291, 250, 540)\n",
        "(2291,)\n",
        "U2194\n"
       ]
      }
     ],
     "prompt_number": 3
    },
    {
     "cell_type": "code",
     "collapsed": false,
     "input": [
      "median_resized = []\n",
      "median_resized_labels = []\n",
      "infilepath=\"Manatee_dataset/preprocessed_and_augmented_train/median_resized/\"\n",
      "for image in listdir(infilepath):\n",
      "    filename=infilepath+image\n",
      "    im = Image.open(filename)\n",
      "    im = im.convert('L')\n",
      "    median_resized.append(numpy.array(im))\n",
      "    median_resized_labels.append(image[:-4])    \n",
      "    #im = im.resize((54, 25), Image.ANTIALIAS)\n",
      "    #im.save(outfilepath+image)\n",
      "median_resized_train_array = numpy.array(median_resized)\n",
      "print median_resized_train_array.shape\n",
      "median_resized_labels_array = numpy.array(median_resized_labels)\n",
      "print median_resized_labels_array.shape\n",
      "print median_resized_labels_array[0]"
     ],
     "language": "python",
     "metadata": {},
     "outputs": [
      {
       "output_type": "stream",
       "stream": "stdout",
       "text": [
        "(2291, 250, 540)\n",
        "(2291,)\n",
        "U2194\n"
       ]
      }
     ],
     "prompt_number": 4
    },
    {
     "cell_type": "code",
     "collapsed": false,
     "input": [
      "test_invert_resized = []\n",
      "test_invert_resized_labels = []\n",
      "infilepath=\"Manatee_dataset/preprocessed_and_augmented_train/test_invert_resized/\"\n",
      "for image in listdir(infilepath):\n",
      "    filename=infilepath+image\n",
      "    im = Image.open(filename)\n",
      "    im = im.convert('L')\n",
      "    test_invert_resized.append(numpy.array(im))\n",
      "    test_invert_resized_labels.append(image[:-6])       \n",
      "    #im = im.resize((54, 25), Image.ANTIALIAS)\n",
      "    #im.save(outfilepath+image)\n",
      "test_invert_resized_array = numpy.array(test_invert_resized)\n",
      "print test_invert_resized_array.shape\n",
      "test_invert_resized_labels_array = numpy.array(test_invert_resized_labels)\n",
      "print test_invert_resized_labels_array.shape\n",
      "print test_invert_resized_labels_array[0]"
     ],
     "language": "python",
     "metadata": {},
     "outputs": [
      {
       "output_type": "stream",
       "stream": "stdout",
       "text": [
        "(122, 250, 540)\n",
        "(122,)\n",
        "U2967\n"
       ]
      }
     ],
     "prompt_number": 5
    },
    {
     "cell_type": "code",
     "collapsed": false,
     "input": [
      "gabor_imaginary_resized = []\n",
      "gabor_imaginary_resized_labels = []\n",
      "infilepath=\"Manatee_dataset/preprocessed_and_augmented_train/gabor_imaginary_resized/\"\n",
      "for image in listdir(infilepath):\n",
      "    filename=infilepath+image\n",
      "    im = Image.open(filename)\n",
      "    im = im.convert('L')\n",
      "    gabor_imaginary_resized.append(numpy.array(im))\n",
      "    gabor_imaginary_resized_labels.append(image[:-4])    \n",
      "    #im = im.resize((54, 25), Image.ANTIALIAS)\n",
      "    #im.save(outfilepath+image)\n",
      "gabor_imaginary_resized_train_array = numpy.array(gabor_imaginary_resized)\n",
      "print gabor_imaginary_resized_train_array.shape\n",
      "gabor_imaginary_resized_labels_array = numpy.array(gabor_imaginary_resized_labels)\n",
      "print gabor_imaginary_resized_labels_array.shape\n",
      "print gabor_imaginary_resized_labels_array[0]"
     ],
     "language": "python",
     "metadata": {},
     "outputs": [
      {
       "output_type": "stream",
       "stream": "stdout",
       "text": [
        "(2291, 250, 540)\n",
        "(2291,)\n",
        "U2194\n"
       ]
      }
     ],
     "prompt_number": 6
    },
    {
     "cell_type": "code",
     "collapsed": false,
     "input": [
      "gabor_real_resized = []\n",
      "gabor_real_resized_labels = []\n",
      "infilepath=\"Manatee_dataset/preprocessed_and_augmented_train/gabor_real_resized/\"\n",
      "for image in listdir(infilepath):\n",
      "    filename=infilepath+image\n",
      "    im = Image.open(filename)\n",
      "    im = im.convert('L')\n",
      "    gabor_real_resized.append(numpy.array(im))\n",
      "    gabor_real_resized_labels.append(image[:-4])    \n",
      "    #im = im.resize((54, 25), Image.ANTIALIAS)\n",
      "    #im.save(outfilepath+image)\n",
      "gabor_real_resized_train_array = numpy.array(gabor_real_resized)\n",
      "print gabor_real_resized_train_array.shape\n",
      "gabor_real_resized_labels_array = numpy.array(gabor_real_resized_labels)\n",
      "print gabor_real_resized_labels_array.shape\n",
      "print gabor_real_resized_labels_array[0]"
     ],
     "language": "python",
     "metadata": {},
     "outputs": [
      {
       "output_type": "stream",
       "stream": "stdout",
       "text": [
        "(2291, 250, 540)\n",
        "(2291,)\n",
        "U2194\n"
       ]
      }
     ],
     "prompt_number": 7
    },
    {
     "cell_type": "code",
     "collapsed": false,
     "input": [
      "gaussian_mild_resized = []\n",
      "gaussian_mild_resized_labels = []\n",
      "infilepath=\"Manatee_dataset/preprocessed_and_augmented_train/gaussian_mild_resized/\"\n",
      "for image in listdir(infilepath):\n",
      "    filename=infilepath+image\n",
      "    im = Image.open(filename)\n",
      "    im = im.convert('L')\n",
      "    gaussian_mild_resized.append(numpy.array(im))\n",
      "    gaussian_mild_resized_labels.append(image[:-4])    \n",
      "    #im = im.resize((54, 25), Image.ANTIALIAS)\n",
      "    #im.save(outfilepath+image)\n",
      "gaussian_mild_resized_train_array = numpy.array(gaussian_mild_resized)\n",
      "print gaussian_mild_resized_train_array.shape\n",
      "gaussian_mild_resized_labels_array = numpy.array(gaussian_mild_resized_labels)\n",
      "print gaussian_mild_resized_labels_array.shape\n",
      "print gaussian_mild_resized_labels_array[0]"
     ],
     "language": "python",
     "metadata": {},
     "outputs": [
      {
       "output_type": "stream",
       "stream": "stdout",
       "text": [
        "(2291, 250, 540)\n",
        "(2291,)\n",
        "U2194\n"
       ]
      }
     ],
     "prompt_number": 8
    },
    {
     "cell_type": "code",
     "collapsed": false,
     "input": [
      "gaussian_strong_resized = []\n",
      "gaussian_strong_resized_labels = []\n",
      "infilepath=\"Manatee_dataset/preprocessed_and_augmented_train/gaussian_strong_resized/\"\n",
      "for image in listdir(infilepath):\n",
      "    filename=infilepath+image\n",
      "    im = Image.open(filename)\n",
      "    im = im.convert('L')\n",
      "    gaussian_strong_resized.append(numpy.array(im))\n",
      "    gaussian_strong_resized_labels.append(image[:-4])    \n",
      "    #im = im.resize((54, 25), Image.ANTIALIAS)\n",
      "    #im.save(outfilepath+image)\n",
      "gaussian_strong_resized_train_array = numpy.array(gaussian_strong_resized)\n",
      "print gaussian_strong_resized_train_array.shape\n",
      "gaussian_strong_resized_labels_array = numpy.array(gaussian_strong_resized_labels)\n",
      "print gaussian_strong_resized_labels_array.shape\n",
      "print gaussian_strong_resized_labels_array[0]"
     ],
     "language": "python",
     "metadata": {},
     "outputs": [
      {
       "output_type": "stream",
       "stream": "stdout",
       "text": [
        "(2291, 250, 540)\n",
        "(2291,)\n",
        "U2194\n"
       ]
      }
     ],
     "prompt_number": 9
    },
    {
     "cell_type": "code",
     "collapsed": false,
     "input": [
      "train_dataset = []\n",
      "train_dataset_labels = []\n",
      "for i in range(2291):\n",
      "    train_dataset.append(invert_resized_train_array[i])\n",
      "    train_dataset.append(mean_resized_train_array[i])\n",
      "    train_dataset.append(median_resized_train_array[i])\n",
      "    train_dataset.append(gabor_imaginary_resized_train_array[i])\n",
      "    train_dataset.append(gabor_real_resized_train_array[i])\n",
      "    train_dataset.append(gaussian_mild_resized_train_array[i])\n",
      "    train_dataset.append(gaussian_strong_resized_train_array[i])\n",
      "    train_dataset_labels.append(invert_resized_labels_array[i])\n",
      "    train_dataset_labels.append(mean_resized_labels_array[i])\n",
      "    train_dataset_labels.append(median_resized_labels_array[i])\n",
      "    train_dataset_labels.append(gabor_imaginary_resized_labels_array[i])\n",
      "    train_dataset_labels.append(gabor_real_resized_labels_array[i])\n",
      "    train_dataset_labels.append(gaussian_mild_resized_labels_array[i])\n",
      "    train_dataset_labels.append(gaussian_strong_resized_labels_array[i])"
     ],
     "language": "python",
     "metadata": {},
     "outputs": [],
     "prompt_number": 10
    },
    {
     "cell_type": "code",
     "collapsed": false,
     "input": [
      "print numpy.array(train_dataset).shape\n",
      "print numpy.array(train_dataset_labels).shape"
     ],
     "language": "python",
     "metadata": {},
     "outputs": [
      {
       "output_type": "stream",
       "stream": "stdout",
       "text": [
        "(16037, 250, 540)\n",
        "(16037,)\n"
       ]
      }
     ],
     "prompt_number": 11
    },
    {
     "cell_type": "code",
     "collapsed": false,
     "input": [
      "train_dataset_array = numpy.array(train_dataset)\n",
      "# Write the array to disk\n",
      "with file('Manatee_dataset/train.txt', 'w') as outfile:\n",
      "    # I'm writing a header here just for the sake of readability\n",
      "    # Any line starting with \"#\" will be ignored by numpy.loadtxt\n",
      "    outfile.write('# Array shape: {0}\\n'.format(train_dataset_array.shape))\n",
      "\n",
      "    # Iterating through a ndimensional array produces slices along\n",
      "    # the last axis. This is equivalent to data[i,:,:] in this case\n",
      "    i=0\n",
      "    for data_slice in train_dataset_array:\n",
      "\n",
      "        # The formatting string indicates that I'm writing out\n",
      "        # the values in left-justified columns 7 characters in width\n",
      "        # with 2 decimal places.  \n",
      "        numpy.savetxt(outfile, data_slice, fmt='%-7.0f')\n",
      "        i=i+1\n",
      "        if i%100==0:\n",
      "            print i\n",
      "        # Writing out a break to indicate different slices...\n",
      "        outfile.write('# New slice\\n')"
     ],
     "language": "python",
     "metadata": {},
     "outputs": [
      {
       "output_type": "stream",
       "stream": "stdout",
       "text": [
        "100\n",
        "200"
       ]
      },
      {
       "output_type": "stream",
       "stream": "stdout",
       "text": [
        "\n",
        "300"
       ]
      },
      {
       "output_type": "stream",
       "stream": "stdout",
       "text": [
        "\n",
        "400"
       ]
      },
      {
       "output_type": "stream",
       "stream": "stdout",
       "text": [
        "\n",
        "500"
       ]
      },
      {
       "output_type": "stream",
       "stream": "stdout",
       "text": [
        "\n",
        "600"
       ]
      },
      {
       "output_type": "stream",
       "stream": "stdout",
       "text": [
        "\n",
        "700"
       ]
      },
      {
       "output_type": "stream",
       "stream": "stdout",
       "text": [
        "\n",
        "800"
       ]
      },
      {
       "output_type": "stream",
       "stream": "stdout",
       "text": [
        "\n",
        "900"
       ]
      },
      {
       "output_type": "stream",
       "stream": "stdout",
       "text": [
        "\n",
        "1000"
       ]
      },
      {
       "output_type": "stream",
       "stream": "stdout",
       "text": [
        "\n",
        "1100"
       ]
      },
      {
       "output_type": "stream",
       "stream": "stdout",
       "text": [
        "\n",
        "1200"
       ]
      },
      {
       "output_type": "stream",
       "stream": "stdout",
       "text": [
        "\n",
        "1300"
       ]
      },
      {
       "output_type": "stream",
       "stream": "stdout",
       "text": [
        "\n",
        "1400"
       ]
      },
      {
       "output_type": "stream",
       "stream": "stdout",
       "text": [
        "\n",
        "1500"
       ]
      },
      {
       "output_type": "stream",
       "stream": "stdout",
       "text": [
        "\n",
        "1600"
       ]
      },
      {
       "output_type": "stream",
       "stream": "stdout",
       "text": [
        "\n",
        "1700"
       ]
      },
      {
       "output_type": "stream",
       "stream": "stdout",
       "text": [
        "\n",
        "1800"
       ]
      },
      {
       "output_type": "stream",
       "stream": "stdout",
       "text": [
        "\n",
        "1900"
       ]
      },
      {
       "output_type": "stream",
       "stream": "stdout",
       "text": [
        "\n",
        "2000"
       ]
      },
      {
       "output_type": "stream",
       "stream": "stdout",
       "text": [
        "\n",
        "2100"
       ]
      },
      {
       "output_type": "stream",
       "stream": "stdout",
       "text": [
        "\n",
        "2200"
       ]
      },
      {
       "output_type": "stream",
       "stream": "stdout",
       "text": [
        "\n",
        "2300"
       ]
      },
      {
       "output_type": "stream",
       "stream": "stdout",
       "text": [
        "\n",
        "2400"
       ]
      },
      {
       "output_type": "stream",
       "stream": "stdout",
       "text": [
        "\n",
        "2500"
       ]
      },
      {
       "output_type": "stream",
       "stream": "stdout",
       "text": [
        "\n",
        "2600"
       ]
      },
      {
       "output_type": "stream",
       "stream": "stdout",
       "text": [
        "\n",
        "2700"
       ]
      },
      {
       "output_type": "stream",
       "stream": "stdout",
       "text": [
        "\n",
        "2800"
       ]
      },
      {
       "output_type": "stream",
       "stream": "stdout",
       "text": [
        "\n",
        "2900"
       ]
      },
      {
       "output_type": "stream",
       "stream": "stdout",
       "text": [
        "\n",
        "3000"
       ]
      },
      {
       "output_type": "stream",
       "stream": "stdout",
       "text": [
        "\n",
        "3100"
       ]
      },
      {
       "output_type": "stream",
       "stream": "stdout",
       "text": [
        "\n",
        "3200"
       ]
      },
      {
       "output_type": "stream",
       "stream": "stdout",
       "text": [
        "\n",
        "3300"
       ]
      },
      {
       "output_type": "stream",
       "stream": "stdout",
       "text": [
        "\n",
        "3400"
       ]
      },
      {
       "output_type": "stream",
       "stream": "stdout",
       "text": [
        "\n",
        "3500"
       ]
      },
      {
       "output_type": "stream",
       "stream": "stdout",
       "text": [
        "\n",
        "3600"
       ]
      },
      {
       "output_type": "stream",
       "stream": "stdout",
       "text": [
        "\n",
        "3700"
       ]
      },
      {
       "output_type": "stream",
       "stream": "stdout",
       "text": [
        "\n",
        "3800"
       ]
      },
      {
       "output_type": "stream",
       "stream": "stdout",
       "text": [
        "\n",
        "3900"
       ]
      },
      {
       "output_type": "stream",
       "stream": "stdout",
       "text": [
        "\n",
        "4000"
       ]
      },
      {
       "output_type": "stream",
       "stream": "stdout",
       "text": [
        "\n",
        "4100"
       ]
      },
      {
       "output_type": "stream",
       "stream": "stdout",
       "text": [
        "\n",
        "4200"
       ]
      },
      {
       "output_type": "stream",
       "stream": "stdout",
       "text": [
        "\n",
        "4300"
       ]
      },
      {
       "output_type": "stream",
       "stream": "stdout",
       "text": [
        "\n",
        "4400"
       ]
      },
      {
       "output_type": "stream",
       "stream": "stdout",
       "text": [
        "\n",
        "4500"
       ]
      },
      {
       "output_type": "stream",
       "stream": "stdout",
       "text": [
        "\n",
        "4600"
       ]
      },
      {
       "output_type": "stream",
       "stream": "stdout",
       "text": [
        "\n",
        "4700"
       ]
      },
      {
       "output_type": "stream",
       "stream": "stdout",
       "text": [
        "\n",
        "4800"
       ]
      },
      {
       "output_type": "stream",
       "stream": "stdout",
       "text": [
        "\n",
        "4900"
       ]
      },
      {
       "output_type": "stream",
       "stream": "stdout",
       "text": [
        "\n",
        "5000"
       ]
      },
      {
       "output_type": "stream",
       "stream": "stdout",
       "text": [
        "\n",
        "5100"
       ]
      },
      {
       "output_type": "stream",
       "stream": "stdout",
       "text": [
        "\n",
        "5200"
       ]
      },
      {
       "output_type": "stream",
       "stream": "stdout",
       "text": [
        "\n",
        "5300"
       ]
      },
      {
       "output_type": "stream",
       "stream": "stdout",
       "text": [
        "\n",
        "5400"
       ]
      },
      {
       "output_type": "stream",
       "stream": "stdout",
       "text": [
        "\n",
        "5500"
       ]
      },
      {
       "output_type": "stream",
       "stream": "stdout",
       "text": [
        "\n",
        "5600"
       ]
      },
      {
       "output_type": "stream",
       "stream": "stdout",
       "text": [
        "\n",
        "5700"
       ]
      },
      {
       "output_type": "stream",
       "stream": "stdout",
       "text": [
        "\n",
        "5800"
       ]
      },
      {
       "output_type": "stream",
       "stream": "stdout",
       "text": [
        "\n",
        "5900"
       ]
      },
      {
       "output_type": "stream",
       "stream": "stdout",
       "text": [
        "\n",
        "6000"
       ]
      },
      {
       "output_type": "stream",
       "stream": "stdout",
       "text": [
        "\n",
        "6100"
       ]
      },
      {
       "output_type": "stream",
       "stream": "stdout",
       "text": [
        "\n",
        "6200"
       ]
      },
      {
       "output_type": "stream",
       "stream": "stdout",
       "text": [
        "\n",
        "6300"
       ]
      },
      {
       "output_type": "stream",
       "stream": "stdout",
       "text": [
        "\n",
        "6400"
       ]
      },
      {
       "output_type": "stream",
       "stream": "stdout",
       "text": [
        "\n",
        "6500"
       ]
      },
      {
       "output_type": "stream",
       "stream": "stdout",
       "text": [
        "\n",
        "6600"
       ]
      },
      {
       "output_type": "stream",
       "stream": "stdout",
       "text": [
        "\n",
        "6700"
       ]
      },
      {
       "output_type": "stream",
       "stream": "stdout",
       "text": [
        "\n",
        "6800"
       ]
      },
      {
       "output_type": "stream",
       "stream": "stdout",
       "text": [
        "\n",
        "6900"
       ]
      },
      {
       "output_type": "stream",
       "stream": "stdout",
       "text": [
        "\n",
        "7000"
       ]
      },
      {
       "output_type": "stream",
       "stream": "stdout",
       "text": [
        "\n",
        "7100"
       ]
      },
      {
       "output_type": "stream",
       "stream": "stdout",
       "text": [
        "\n",
        "7200"
       ]
      },
      {
       "output_type": "stream",
       "stream": "stdout",
       "text": [
        "\n",
        "7300"
       ]
      },
      {
       "output_type": "stream",
       "stream": "stdout",
       "text": [
        "\n",
        "7400"
       ]
      },
      {
       "output_type": "stream",
       "stream": "stdout",
       "text": [
        "\n",
        "7500"
       ]
      },
      {
       "output_type": "stream",
       "stream": "stdout",
       "text": [
        "\n",
        "7600"
       ]
      },
      {
       "output_type": "stream",
       "stream": "stdout",
       "text": [
        "\n",
        "7700"
       ]
      },
      {
       "output_type": "stream",
       "stream": "stdout",
       "text": [
        "\n",
        "7800"
       ]
      },
      {
       "output_type": "stream",
       "stream": "stdout",
       "text": [
        "\n",
        "7900"
       ]
      },
      {
       "output_type": "stream",
       "stream": "stdout",
       "text": [
        "\n",
        "8000"
       ]
      },
      {
       "output_type": "stream",
       "stream": "stdout",
       "text": [
        "\n",
        "8100"
       ]
      },
      {
       "output_type": "stream",
       "stream": "stdout",
       "text": [
        "\n",
        "8200"
       ]
      },
      {
       "output_type": "stream",
       "stream": "stdout",
       "text": [
        "\n",
        "8300"
       ]
      },
      {
       "output_type": "stream",
       "stream": "stdout",
       "text": [
        "\n",
        "8400"
       ]
      },
      {
       "output_type": "stream",
       "stream": "stdout",
       "text": [
        "\n",
        "8500"
       ]
      },
      {
       "output_type": "stream",
       "stream": "stdout",
       "text": [
        "\n",
        "8600"
       ]
      },
      {
       "output_type": "stream",
       "stream": "stdout",
       "text": [
        "\n",
        "8700"
       ]
      },
      {
       "output_type": "stream",
       "stream": "stdout",
       "text": [
        "\n",
        "8800"
       ]
      },
      {
       "output_type": "stream",
       "stream": "stdout",
       "text": [
        "\n",
        "8900"
       ]
      },
      {
       "output_type": "stream",
       "stream": "stdout",
       "text": [
        "\n",
        "9000"
       ]
      },
      {
       "output_type": "stream",
       "stream": "stdout",
       "text": [
        "\n",
        "9100"
       ]
      },
      {
       "output_type": "stream",
       "stream": "stdout",
       "text": [
        "\n",
        "9200"
       ]
      },
      {
       "output_type": "stream",
       "stream": "stdout",
       "text": [
        "\n",
        "9300"
       ]
      },
      {
       "output_type": "stream",
       "stream": "stdout",
       "text": [
        "\n",
        "9400"
       ]
      },
      {
       "output_type": "stream",
       "stream": "stdout",
       "text": [
        "\n",
        "9500"
       ]
      },
      {
       "output_type": "stream",
       "stream": "stdout",
       "text": [
        "\n",
        "9600"
       ]
      },
      {
       "output_type": "stream",
       "stream": "stdout",
       "text": [
        "\n",
        "9700"
       ]
      },
      {
       "output_type": "stream",
       "stream": "stdout",
       "text": [
        "\n",
        "9800"
       ]
      },
      {
       "output_type": "stream",
       "stream": "stdout",
       "text": [
        "\n",
        "9900"
       ]
      },
      {
       "output_type": "stream",
       "stream": "stdout",
       "text": [
        "\n",
        "10000"
       ]
      },
      {
       "output_type": "stream",
       "stream": "stdout",
       "text": [
        "\n",
        "10100"
       ]
      },
      {
       "output_type": "stream",
       "stream": "stdout",
       "text": [
        "\n",
        "10200"
       ]
      },
      {
       "output_type": "stream",
       "stream": "stdout",
       "text": [
        "\n",
        "10300"
       ]
      },
      {
       "output_type": "stream",
       "stream": "stdout",
       "text": [
        "\n",
        "10400"
       ]
      },
      {
       "output_type": "stream",
       "stream": "stdout",
       "text": [
        "\n",
        "10500"
       ]
      },
      {
       "output_type": "stream",
       "stream": "stdout",
       "text": [
        "\n",
        "10600"
       ]
      },
      {
       "output_type": "stream",
       "stream": "stdout",
       "text": [
        "\n",
        "10700"
       ]
      },
      {
       "output_type": "stream",
       "stream": "stdout",
       "text": [
        "\n",
        "10800"
       ]
      },
      {
       "output_type": "stream",
       "stream": "stdout",
       "text": [
        "\n",
        "10900"
       ]
      },
      {
       "output_type": "stream",
       "stream": "stdout",
       "text": [
        "\n",
        "11000"
       ]
      },
      {
       "output_type": "stream",
       "stream": "stdout",
       "text": [
        "\n",
        "11100"
       ]
      },
      {
       "output_type": "stream",
       "stream": "stdout",
       "text": [
        "\n",
        "11200"
       ]
      },
      {
       "output_type": "stream",
       "stream": "stdout",
       "text": [
        "\n",
        "11300"
       ]
      },
      {
       "output_type": "stream",
       "stream": "stdout",
       "text": [
        "\n",
        "11400"
       ]
      },
      {
       "output_type": "stream",
       "stream": "stdout",
       "text": [
        "\n",
        "11500"
       ]
      },
      {
       "output_type": "stream",
       "stream": "stdout",
       "text": [
        "\n",
        "11600"
       ]
      },
      {
       "output_type": "stream",
       "stream": "stdout",
       "text": [
        "\n",
        "11700"
       ]
      },
      {
       "output_type": "stream",
       "stream": "stdout",
       "text": [
        "\n",
        "11800"
       ]
      },
      {
       "output_type": "stream",
       "stream": "stdout",
       "text": [
        "\n",
        "11900"
       ]
      },
      {
       "output_type": "stream",
       "stream": "stdout",
       "text": [
        "\n",
        "12000"
       ]
      },
      {
       "output_type": "stream",
       "stream": "stdout",
       "text": [
        "\n",
        "12100"
       ]
      },
      {
       "output_type": "stream",
       "stream": "stdout",
       "text": [
        "\n",
        "12200"
       ]
      },
      {
       "output_type": "stream",
       "stream": "stdout",
       "text": [
        "\n",
        "12300"
       ]
      },
      {
       "output_type": "stream",
       "stream": "stdout",
       "text": [
        "\n",
        "12400"
       ]
      },
      {
       "output_type": "stream",
       "stream": "stdout",
       "text": [
        "\n",
        "12500"
       ]
      },
      {
       "output_type": "stream",
       "stream": "stdout",
       "text": [
        "\n",
        "12600"
       ]
      },
      {
       "output_type": "stream",
       "stream": "stdout",
       "text": [
        "\n",
        "12700"
       ]
      },
      {
       "output_type": "stream",
       "stream": "stdout",
       "text": [
        "\n",
        "12800"
       ]
      },
      {
       "output_type": "stream",
       "stream": "stdout",
       "text": [
        "\n",
        "12900"
       ]
      },
      {
       "output_type": "stream",
       "stream": "stdout",
       "text": [
        "\n",
        "13000"
       ]
      },
      {
       "output_type": "stream",
       "stream": "stdout",
       "text": [
        "\n",
        "13100"
       ]
      },
      {
       "output_type": "stream",
       "stream": "stdout",
       "text": [
        "\n",
        "13200"
       ]
      },
      {
       "output_type": "stream",
       "stream": "stdout",
       "text": [
        "\n",
        "13300"
       ]
      },
      {
       "output_type": "stream",
       "stream": "stdout",
       "text": [
        "\n",
        "13400"
       ]
      },
      {
       "output_type": "stream",
       "stream": "stdout",
       "text": [
        "\n",
        "13500"
       ]
      },
      {
       "output_type": "stream",
       "stream": "stdout",
       "text": [
        "\n",
        "13600"
       ]
      },
      {
       "output_type": "stream",
       "stream": "stdout",
       "text": [
        "\n",
        "13700"
       ]
      },
      {
       "output_type": "stream",
       "stream": "stdout",
       "text": [
        "\n",
        "13800"
       ]
      },
      {
       "output_type": "stream",
       "stream": "stdout",
       "text": [
        "\n",
        "13900"
       ]
      },
      {
       "output_type": "stream",
       "stream": "stdout",
       "text": [
        "\n",
        "14000"
       ]
      },
      {
       "output_type": "stream",
       "stream": "stdout",
       "text": [
        "\n",
        "14100"
       ]
      },
      {
       "output_type": "stream",
       "stream": "stdout",
       "text": [
        "\n",
        "14200"
       ]
      },
      {
       "output_type": "stream",
       "stream": "stdout",
       "text": [
        "\n",
        "14300"
       ]
      },
      {
       "output_type": "stream",
       "stream": "stdout",
       "text": [
        "\n",
        "14400"
       ]
      },
      {
       "output_type": "stream",
       "stream": "stdout",
       "text": [
        "\n",
        "14500"
       ]
      },
      {
       "output_type": "stream",
       "stream": "stdout",
       "text": [
        "\n",
        "14600"
       ]
      },
      {
       "output_type": "stream",
       "stream": "stdout",
       "text": [
        "\n",
        "14700"
       ]
      },
      {
       "output_type": "stream",
       "stream": "stdout",
       "text": [
        "\n",
        "14800"
       ]
      },
      {
       "output_type": "stream",
       "stream": "stdout",
       "text": [
        "\n",
        "14900"
       ]
      },
      {
       "output_type": "stream",
       "stream": "stdout",
       "text": [
        "\n",
        "15000"
       ]
      },
      {
       "output_type": "stream",
       "stream": "stdout",
       "text": [
        "\n",
        "15100"
       ]
      },
      {
       "output_type": "stream",
       "stream": "stdout",
       "text": [
        "\n",
        "15200"
       ]
      },
      {
       "output_type": "stream",
       "stream": "stdout",
       "text": [
        "\n",
        "15300"
       ]
      },
      {
       "output_type": "stream",
       "stream": "stdout",
       "text": [
        "\n",
        "15400"
       ]
      },
      {
       "output_type": "stream",
       "stream": "stdout",
       "text": [
        "\n",
        "15500"
       ]
      },
      {
       "output_type": "stream",
       "stream": "stdout",
       "text": [
        "\n",
        "15600"
       ]
      },
      {
       "output_type": "stream",
       "stream": "stdout",
       "text": [
        "\n",
        "15700"
       ]
      },
      {
       "output_type": "stream",
       "stream": "stdout",
       "text": [
        "\n",
        "15800"
       ]
      },
      {
       "output_type": "stream",
       "stream": "stdout",
       "text": [
        "\n",
        "15900"
       ]
      },
      {
       "output_type": "stream",
       "stream": "stdout",
       "text": [
        "\n",
        "16000"
       ]
      },
      {
       "output_type": "stream",
       "stream": "stdout",
       "text": [
        "\n"
       ]
      }
     ],
     "prompt_number": 15
    },
    {
     "cell_type": "code",
     "collapsed": false,
     "input": [
      "# Read the array from disk\n",
      "new_data = numpy.loadtxt('Manatee_dataset/train.txt')\n",
      "\n",
      "# Note that this returned a 2D array!\n",
      "print new_data.shape\n",
      "\n",
      "# However, going back to 3D is easy if we know the \n",
      "# original shape of the array\n",
      "new_data = new_data.reshape((2291,250,540))\n",
      "\n",
      "# Just to check that they're the same...\n",
      "print numpy.all(new_data == train_dataset_array)\n",
      "print new_data.shape"
     ],
     "language": "python",
     "metadata": {},
     "outputs": [
      {
       "ename": "KeyboardInterrupt",
       "evalue": "",
       "output_type": "pyerr",
       "traceback": [
        "\u001b[1;31m---------------------------------------------------------------------------\u001b[0m\n\u001b[1;31mKeyboardInterrupt\u001b[0m                         Traceback (most recent call last)",
        "\u001b[1;32m<ipython-input-16-b656efb06979>\u001b[0m in \u001b[0;36m<module>\u001b[1;34m()\u001b[0m\n\u001b[0;32m      1\u001b[0m \u001b[1;31m# Read the array from disk\u001b[0m\u001b[1;33m\u001b[0m\u001b[1;33m\u001b[0m\u001b[0m\n\u001b[1;32m----> 2\u001b[1;33m \u001b[0mnew_data\u001b[0m \u001b[1;33m=\u001b[0m \u001b[0mnumpy\u001b[0m\u001b[1;33m.\u001b[0m\u001b[0mloadtxt\u001b[0m\u001b[1;33m(\u001b[0m\u001b[1;34m'Manatee_dataset/train.txt'\u001b[0m\u001b[1;33m)\u001b[0m\u001b[1;33m\u001b[0m\u001b[0m\n\u001b[0m\u001b[0;32m      3\u001b[0m \u001b[1;33m\u001b[0m\u001b[0m\n\u001b[0;32m      4\u001b[0m \u001b[1;31m# Note that this returned a 2D array!\u001b[0m\u001b[1;33m\u001b[0m\u001b[1;33m\u001b[0m\u001b[0m\n\u001b[0;32m      5\u001b[0m \u001b[1;32mprint\u001b[0m \u001b[0mnew_data\u001b[0m\u001b[1;33m.\u001b[0m\u001b[0mshape\u001b[0m\u001b[1;33m\u001b[0m\u001b[0m\n",
        "\u001b[1;32m/usr/local/lib/python2.7/dist-packages/numpy/lib/npyio.pyc\u001b[0m in \u001b[0;36mloadtxt\u001b[1;34m(fname, dtype, comments, delimiter, converters, skiprows, usecols, unpack, ndmin)\u001b[0m\n\u001b[0;32m    971\u001b[0m \u001b[1;33m\u001b[0m\u001b[0m\n\u001b[0;32m    972\u001b[0m         \u001b[1;31m# Parse each line, including the first\u001b[0m\u001b[1;33m\u001b[0m\u001b[1;33m\u001b[0m\u001b[0m\n\u001b[1;32m--> 973\u001b[1;33m         \u001b[1;32mfor\u001b[0m \u001b[0mi\u001b[0m\u001b[1;33m,\u001b[0m \u001b[0mline\u001b[0m \u001b[1;32min\u001b[0m \u001b[0menumerate\u001b[0m\u001b[1;33m(\u001b[0m\u001b[0mitertools\u001b[0m\u001b[1;33m.\u001b[0m\u001b[0mchain\u001b[0m\u001b[1;33m(\u001b[0m\u001b[1;33m[\u001b[0m\u001b[0mfirst_line\u001b[0m\u001b[1;33m]\u001b[0m\u001b[1;33m,\u001b[0m \u001b[0mfh\u001b[0m\u001b[1;33m)\u001b[0m\u001b[1;33m)\u001b[0m\u001b[1;33m:\u001b[0m\u001b[1;33m\u001b[0m\u001b[0m\n\u001b[0m\u001b[0;32m    974\u001b[0m             \u001b[0mvals\u001b[0m \u001b[1;33m=\u001b[0m \u001b[0msplit_line\u001b[0m\u001b[1;33m(\u001b[0m\u001b[0mline\u001b[0m\u001b[1;33m)\u001b[0m\u001b[1;33m\u001b[0m\u001b[0m\n\u001b[0;32m    975\u001b[0m             \u001b[1;32mif\u001b[0m \u001b[0mlen\u001b[0m\u001b[1;33m(\u001b[0m\u001b[0mvals\u001b[0m\u001b[1;33m)\u001b[0m \u001b[1;33m==\u001b[0m \u001b[1;36m0\u001b[0m\u001b[1;33m:\u001b[0m\u001b[1;33m\u001b[0m\u001b[0m\n",
        "\u001b[1;31mKeyboardInterrupt\u001b[0m: "
       ]
      }
     ],
     "prompt_number": 16
    },
    {
     "cell_type": "code",
     "collapsed": false,
     "input": [
      "train_labels_dataset_array = numpy.array(train_dataset_labels)\n",
      "\n",
      "train_labels_dataset_array.tofile('Manatee_dataset/train_labels.txt',sep='\\n',format=\"%s\")"
     ],
     "language": "python",
     "metadata": {},
     "outputs": [],
     "prompt_number": 17
    },
    {
     "cell_type": "code",
     "collapsed": false,
     "input": [
      "# Read the array from disk\n",
      "new_data = numpy.loadtxt('Manatee_dataset/train_labels.txt', dtype=str)\n",
      "\n",
      "# Note that this returned an array!\n",
      "print new_data.shape\n",
      "print numpy.all(new_data == train_labels_dataset_array)"
     ],
     "language": "python",
     "metadata": {},
     "outputs": [
      {
       "output_type": "stream",
       "stream": "stdout",
       "text": [
        "(16037,)\n",
        "True"
       ]
      },
      {
       "output_type": "stream",
       "stream": "stdout",
       "text": [
        "\n"
       ]
      }
     ],
     "prompt_number": 18
    },
    {
     "cell_type": "code",
     "collapsed": false,
     "input": [
      "test_dataset_array = test_invert_resized_array\n",
      "test_labels_dataset_array = test_invert_resized_labels_array"
     ],
     "language": "python",
     "metadata": {},
     "outputs": [],
     "prompt_number": 19
    },
    {
     "cell_type": "code",
     "collapsed": false,
     "input": [
      "# Write the array to disk\n",
      "with file('Manatee_dataset/test.txt', 'w') as outfile:\n",
      "    # I'm writing a header here just for the sake of readability\n",
      "    # Any line starting with \"#\" will be ignored by numpy.loadtxt\n",
      "    outfile.write('# Array shape: {0}\\n'.format(test_dataset_array.shape))\n",
      "\n",
      "    # Iterating through a ndimensional array produces slices along\n",
      "    # the last axis. This is equivalent to data[i,:,:] in this case\n",
      "    for data_slice in test_dataset_array:\n",
      "\n",
      "        # The formatting string indicates that I'm writing out\n",
      "        # the values in left-justified columns 7 characters in width\n",
      "        # with 2 decimal places.  \n",
      "        numpy.savetxt(outfile, data_slice, fmt='%-7.0f')\n",
      "\n",
      "        # Writing out a break to indicate different slices...\n",
      "        outfile.write('# New slice\\n')"
     ],
     "language": "python",
     "metadata": {},
     "outputs": [],
     "prompt_number": 20
    },
    {
     "cell_type": "code",
     "collapsed": false,
     "input": [
      "# Read the array from disk\n",
      "new_data = numpy.loadtxt('Manatee_dataset/test.txt')\n",
      "\n",
      "# Note that this returned a 2D array!\n",
      "print new_data.shape\n",
      "\n",
      "# However, going back to 3D is easy if we know the \n",
      "# original shape of the array\n",
      "new_data = new_data.reshape((122,250,540))\n",
      "\n",
      "# Just to check that they're the same...\n",
      "print numpy.all(new_data == test_dataset_array)\n",
      "print new_data.shape"
     ],
     "language": "python",
     "metadata": {},
     "outputs": [
      {
       "output_type": "stream",
       "stream": "stdout",
       "text": [
        "(30500, 540)\n",
        "True\n",
        "(122, 250, 540)\n"
       ]
      }
     ],
     "prompt_number": 21
    },
    {
     "cell_type": "code",
     "collapsed": false,
     "input": [
      "\n",
      "test_labels_dataset_array.tofile('Manatee_dataset/test_labels.txt',sep='\\n',format=\"%s\")"
     ],
     "language": "python",
     "metadata": {},
     "outputs": [],
     "prompt_number": 22
    },
    {
     "cell_type": "code",
     "collapsed": false,
     "input": [
      "# Read the array from disk\n",
      "new_data = numpy.loadtxt('Manatee_dataset/test_labels.txt', dtype=str)\n",
      "\n",
      "# Note that this returned an array!\n",
      "print new_data.shape"
     ],
     "language": "python",
     "metadata": {},
     "outputs": [
      {
       "output_type": "stream",
       "stream": "stdout",
       "text": [
        "(122,)\n"
       ]
      }
     ],
     "prompt_number": 23
    },
    {
     "cell_type": "code",
     "collapsed": false,
     "input": [],
     "language": "python",
     "metadata": {},
     "outputs": []
    }
   ],
   "metadata": {}
  }
 ]
}