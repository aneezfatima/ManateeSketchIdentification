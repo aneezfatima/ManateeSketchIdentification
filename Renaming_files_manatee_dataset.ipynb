{
 "metadata": {
  "name": "",
  "signature": "sha256:c67ad02568459e85bfac4e7e548ba015d903b5472487645e41e1ea10ac62cdf1"
 },
 "nbformat": 3,
 "nbformat_minor": 0,
 "worksheets": [
  {
   "cells": [
    {
     "cell_type": "code",
     "collapsed": false,
     "input": [
      "from skimage import data,io,filters\n",
      "from os import listdir,system\n",
      "import shutil\n",
      "import matplotlib.pyplot as plt\n",
      "%matplotlib inline\n",
      "import numpy\n",
      "from PIL import Image"
     ],
     "language": "python",
     "metadata": {},
     "outputs": [],
     "prompt_number": 6
    },
    {
     "cell_type": "code",
     "collapsed": false,
     "input": [
      "filepath=\"Manatee_dataset/\"\n",
      "infilepath=\"Manatee_dataset/preprocessed_and_augmented_train/invert/\"\n",
      "outfilepath=\"Manatee_dataset/preprocessed_and_augmented_train/invert/\""
     ],
     "language": "python",
     "metadata": {},
     "outputs": [],
     "prompt_number": 7
    },
    {
     "cell_type": "code",
     "collapsed": false,
     "input": [
      "for image in listdir(infilepath):\n",
      "    filename=infilepath+image\n",
      "    im = Image.open(filename)\n",
      "    #im_inv = numpy.invert(im)\n",
      "    image_changed = image.replace(\"invert_\",\"\")\n",
      "    outfilepath_changed = outfilepath+image_changed\n",
      "    io.imsave(outfilepath_changed, im)"
     ],
     "language": "python",
     "metadata": {},
     "outputs": [],
     "prompt_number": 8
    },
    {
     "cell_type": "code",
     "collapsed": false,
     "input": [
      "filepath=\"Manatee_dataset/\"\n",
      "infilepath=\"Manatee_dataset/preprocessed_and_augmented_train/mean/\"\n",
      "outfilepath=\"Manatee_dataset/preprocessed_and_augmented_train/mean/\""
     ],
     "language": "python",
     "metadata": {},
     "outputs": [],
     "prompt_number": 9
    },
    {
     "cell_type": "code",
     "collapsed": false,
     "input": [
      "for image in listdir(infilepath):\n",
      "    filename=infilepath+image\n",
      "    im = Image.open(filename)\n",
      "    #im_inv = numpy.invert(im)\n",
      "    image_changed = image.replace(\"mean_invert_\",\"\")\n",
      "    outfilepath_changed = outfilepath+image_changed\n",
      "    io.imsave(outfilepath_changed, im)"
     ],
     "language": "python",
     "metadata": {},
     "outputs": [],
     "prompt_number": 10
    },
    {
     "cell_type": "code",
     "collapsed": false,
     "input": [
      "filepath=\"Manatee_dataset/\"\n",
      "infilepath=\"Manatee_dataset/preprocessed_and_augmented_train/median/\"\n",
      "outfilepath=\"Manatee_dataset/preprocessed_and_augmented_train/median/\""
     ],
     "language": "python",
     "metadata": {},
     "outputs": [],
     "prompt_number": 11
    },
    {
     "cell_type": "code",
     "collapsed": false,
     "input": [
      "for image in listdir(infilepath):\n",
      "    filename=infilepath+image\n",
      "    im = Image.open(filename)\n",
      "    #im_inv = numpy.invert(im)\n",
      "    image_changed = image.replace(\"median_invert_\",\"\")\n",
      "    outfilepath_changed = outfilepath+image_changed\n",
      "    io.imsave(outfilepath_changed, im)"
     ],
     "language": "python",
     "metadata": {},
     "outputs": [],
     "prompt_number": 12
    },
    {
     "cell_type": "code",
     "collapsed": false,
     "input": [
      "filepath=\"Manatee_dataset/\"\n",
      "infilepath=\"Manatee_dataset/preprocessed_and_augmented_train/gaussian_strong/\"\n",
      "outfilepath=\"Manatee_dataset/preprocessed_and_augmented_train/gaussian_strong/\""
     ],
     "language": "python",
     "metadata": {},
     "outputs": [],
     "prompt_number": 13
    },
    {
     "cell_type": "code",
     "collapsed": false,
     "input": [
      "for image in listdir(infilepath):\n",
      "    filename=infilepath+image\n",
      "    im = Image.open(filename)\n",
      "    #im_inv = numpy.invert(im)\n",
      "    image_changed = image.replace(\"gaussian_strong_invert_\",\"\")\n",
      "    outfilepath_changed = outfilepath+image_changed\n",
      "    io.imsave(outfilepath_changed, im)"
     ],
     "language": "python",
     "metadata": {},
     "outputs": [],
     "prompt_number": 14
    },
    {
     "cell_type": "code",
     "collapsed": false,
     "input": [
      "filepath=\"Manatee_dataset/\"\n",
      "infilepath=\"Manatee_dataset/preprocessed_and_augmented_train/gaussian_mild/\"\n",
      "outfilepath=\"Manatee_dataset/preprocessed_and_augmented_train/gaussian_mild/\""
     ],
     "language": "python",
     "metadata": {},
     "outputs": [],
     "prompt_number": 15
    },
    {
     "cell_type": "code",
     "collapsed": false,
     "input": [
      "for image in listdir(infilepath):\n",
      "    filename=infilepath+image\n",
      "    im = Image.open(filename)\n",
      "    #im_inv = numpy.invert(im)\n",
      "    image_changed = image.replace(\"gaussian_mild_invert_\",\"\")\n",
      "    outfilepath_changed = outfilepath+image_changed\n",
      "    io.imsave(outfilepath_changed, im)"
     ],
     "language": "python",
     "metadata": {},
     "outputs": [],
     "prompt_number": 16
    },
    {
     "cell_type": "code",
     "collapsed": false,
     "input": [
      "filepath=\"Manatee_dataset/\"\n",
      "infilepath=\"Manatee_dataset/preprocessed_and_augmented_train/gabor_real/\"\n",
      "outfilepath=\"Manatee_dataset/preprocessed_and_augmented_train/gabor_real/\""
     ],
     "language": "python",
     "metadata": {},
     "outputs": [],
     "prompt_number": 17
    },
    {
     "cell_type": "code",
     "collapsed": false,
     "input": [
      "for image in listdir(infilepath):\n",
      "    filename=infilepath+image\n",
      "    im = Image.open(filename)\n",
      "    #im_inv = numpy.invert(im)\n",
      "    image_changed = image.replace(\"gabor_real_invert_\",\"\")\n",
      "    outfilepath_changed = outfilepath+image_changed\n",
      "    io.imsave(outfilepath_changed, im)"
     ],
     "language": "python",
     "metadata": {},
     "outputs": [],
     "prompt_number": 18
    },
    {
     "cell_type": "code",
     "collapsed": false,
     "input": [
      "filepath=\"Manatee_dataset/\"\n",
      "infilepath=\"Manatee_dataset/preprocessed_and_augmented_train/gabor_imaginary/\"\n",
      "outfilepath=\"Manatee_dataset/preprocessed_and_augmented_train/gabor_imaginary/\""
     ],
     "language": "python",
     "metadata": {},
     "outputs": [],
     "prompt_number": 19
    },
    {
     "cell_type": "code",
     "collapsed": false,
     "input": [
      "for image in listdir(infilepath):\n",
      "    filename=infilepath+image\n",
      "    im = Image.open(filename)\n",
      "    #im_inv = numpy.invert(im)\n",
      "    image_changed = image.replace(\"gabor_imaginary_invert_\",\"\")\n",
      "    outfilepath_changed = outfilepath+image_changed\n",
      "    io.imsave(outfilepath_changed, im)"
     ],
     "language": "python",
     "metadata": {},
     "outputs": [],
     "prompt_number": 20
    },
    {
     "cell_type": "code",
     "collapsed": false,
     "input": [],
     "language": "python",
     "metadata": {},
     "outputs": []
    }
   ],
   "metadata": {}
  }
 ]
}