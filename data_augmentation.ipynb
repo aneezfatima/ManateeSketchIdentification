{
 "metadata": {
  "name": "",
  "signature": "sha256:2300e6c7b28be1e626b8f0c0773af3d0995bcaa6cf12315097522a5998cbc43f"
 },
 "nbformat": 3,
 "nbformat_minor": 0,
 "worksheets": [
  {
   "cells": [
    {
     "cell_type": "code",
     "collapsed": false,
     "input": [
      "from skimage import data,io,filters\n",
      "from os import listdir,system\n",
      "import shutil\n",
      "import matplotlib.pyplot as plt\n",
      "%matplotlib inline\n",
      "import numpy\n",
      "from PIL import Image"
     ],
     "language": "python",
     "metadata": {},
     "outputs": []
    },
    {
     "cell_type": "code",
     "collapsed": false,
     "input": [
      "filepath=\"Manatee_dataset/\"\n",
      "infilepath=\"Manatee_dataset/sketches_train/\"\n",
      "outfilepath=\"Manatee_dataset/preprocessed_and_augmented_train/invert/\""
     ],
     "language": "python",
     "metadata": {},
     "outputs": []
    },
    {
     "cell_type": "code",
     "collapsed": false,
     "input": [
      "for image in listdir(infilepath):\n",
      "    filename=infilepath+image\n",
      "    im = Image.open(filename)\n",
      "    im_inv = numpy.invert(im)\n",
      "    outfilepath_inverted = outfilepath+'invert_'+image\n",
      "    io.imsave(outfilepath_inverted, im_inv)  "
     ],
     "language": "python",
     "metadata": {},
     "outputs": []
    },
    {
     "cell_type": "code",
     "collapsed": false,
     "input": [
      "infilepath=\"Manatee_dataset/preprocessed_and_augmented_train/invert/\"\n",
      "outfilepath=\"Manatee_dataset/preprocessed_and_augmented_train/invert/\"\n",
      "for image in listdir(infilepath):\n",
      "    filename=infilepath+image\n",
      "    im = Image.open(filename)   \n",
      "    if image.endswith('.tif'):  \n",
      "        image = image[:-3]\n",
      "        image = image+'jpg'\n",
      "        io.imsave(outfilepath+image,im)  "
     ],
     "language": "python",
     "metadata": {},
     "outputs": []
    },
    {
     "cell_type": "code",
     "collapsed": false,
     "input": [
      "infilepath=\"Manatee_dataset/preprocessed_and_augmented_train/invert/\"\n",
      "outfilepath=\"Manatee_dataset/preprocessed_and_augmented_train/invert/\"\n",
      "for image in listdir(infilepath):\n",
      "    filename=infilepath+image    \n",
      "    im = Image.open(filename)\n",
      "    im = im.convert('L')\n",
      "    im_inv = numpy.array(im)\n",
      "    io.imsave(outfilepath+image,im_inv)"
     ],
     "language": "python",
     "metadata": {},
     "outputs": []
    },
    {
     "cell_type": "code",
     "collapsed": false,
     "input": [
      "infilepath=\"Manatee_dataset/preprocessed_and_augmented_train/invert/\"\n",
      "outfilepath=\"Manatee_dataset/preprocessed_and_augmented_train/gaussian_mild/\"\n",
      "for image in listdir(infilepath):   \n",
      "    filename=infilepath+image\n",
      "    im = Image.open(filename)   \n",
      "    im_inv = numpy.array(im)\n",
      "    im_gaussian_mild = filters.gaussian(im_inv, 0.5)\n",
      "    outfilepath_gaussian_mild = outfilepath+'gaussian_mild_'+image\n",
      "    io.imsave(outfilepath_gaussian_mild, im_gaussian_mild) "
     ],
     "language": "python",
     "metadata": {},
     "outputs": []
    },
    {
     "cell_type": "code",
     "collapsed": false,
     "input": [
      "infilepath=\"Manatee_dataset/preprocessed_and_augmented_train/invert/\"\n",
      "outfilepath=\"Manatee_dataset/preprocessed_and_augmented_train/gaussian_strong/\"\n",
      "for image in listdir(infilepath):   \n",
      "    filename=infilepath+image\n",
      "    im = Image.open(filename)   \n",
      "    im_inv = numpy.array(im)\n",
      "    im_gaussian_strong = filters.gaussian(im_inv, 0.9)\n",
      "    outfilepath_gaussian_strong = outfilepath+'gaussian_strong_'+image\n",
      "    io.imsave(outfilepath_gaussian_strong, im_gaussian_strong) "
     ],
     "language": "python",
     "metadata": {},
     "outputs": []
    },
    {
     "cell_type": "code",
     "collapsed": false,
     "input": [
      "infilepath=\"Manatee_dataset/preprocessed_and_augmented_train/invert/\"\n",
      "outfilepath=\"Manatee_dataset/preprocessed_and_augmented_train/gabor_real/\"\n",
      "for image in listdir(infilepath):   \n",
      "    filename=infilepath+image\n",
      "    im = Image.open(filename)   \n",
      "    im_inv = numpy.array(im)   \n",
      "    im_gabor_real, im_gabor_imaginary = filters.gabor(im_inv, frequency=0.9)\n",
      "    #print image, im_inv.shape\n",
      "    outfilepath_gabor_real = outfilepath+'gabor_real_'+image\n",
      "    io.imsave(outfilepath_gabor_real, im_gabor_real) "
     ],
     "language": "python",
     "metadata": {},
     "outputs": []
    },
    {
     "cell_type": "code",
     "collapsed": false,
     "input": [
      "infilepath=\"Manatee_dataset/preprocessed_and_augmented_train/invert/\"\n",
      "outfilepath=\"Manatee_dataset/preprocessed_and_augmented_train/gabor_imaginary/\"\n",
      "for image in listdir(infilepath):   \n",
      "    filename=infilepath+image\n",
      "    im = Image.open(filename)   \n",
      "    im_inv = numpy.array(im)   \n",
      "    im_gabor_real, im_gabor_imaginary = filters.gabor(im_inv, frequency=0.9)\n",
      "    #print image, im_inv.shape\n",
      "    outfilepath_gabor_imaginary = outfilepath+'gabor_imaginary_'+image\n",
      "    io.imsave(outfilepath_gabor_imaginary, im_gabor_imaginary) "
     ],
     "language": "python",
     "metadata": {},
     "outputs": []
    },
    {
     "cell_type": "code",
     "collapsed": false,
     "input": [
      "from skimage.morphology import disk"
     ],
     "language": "python",
     "metadata": {},
     "outputs": []
    },
    {
     "cell_type": "code",
     "collapsed": false,
     "input": [
      "infilepath=\"Manatee_dataset/preprocessed_and_augmented_train/invert/\"\n",
      "outfilepath=\"Manatee_dataset/preprocessed_and_augmented_train/median/\"\n",
      "for image in listdir(infilepath):   \n",
      "    filename=infilepath+image\n",
      "    im = Image.open(filename)   \n",
      "    im_inv = numpy.array(im)   \n",
      "    im_median = filters.median(im_inv,disk(2))\n",
      "    outfilepath_median = outfilepath+'median_'+image\n",
      "    io.imsave(outfilepath_median, im_median) "
     ],
     "language": "python",
     "metadata": {},
     "outputs": []
    },
    {
     "cell_type": "code",
     "collapsed": false,
     "input": [
      "from skimage.filters import rank"
     ],
     "language": "python",
     "metadata": {},
     "outputs": []
    },
    {
     "cell_type": "code",
     "collapsed": false,
     "input": [
      "infilepath=\"Manatee_dataset/preprocessed_and_augmented_train/invert/\"\n",
      "outfilepath=\"Manatee_dataset/preprocessed_and_augmented_train/mean/\"\n",
      "for image in listdir(infilepath):   \n",
      "    filename=infilepath+image\n",
      "    im = Image.open(filename)   \n",
      "    im_inv = numpy.array(im)   \n",
      "    im_mean = rank.mean(im_inv,disk(2))\n",
      "    outfilepath_mean = outfilepath+'mean_'+image\n",
      "    io.imsave(outfilepath_mean, im_mean) "
     ],
     "language": "python",
     "metadata": {},
     "outputs": []
    }
   ],
   "metadata": {}
  }
 ]
}