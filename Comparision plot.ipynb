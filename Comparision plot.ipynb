{
 "cells": [
  {
   "cell_type": "code",
   "execution_count": 1,
   "metadata": {
    "collapsed": true
   },
   "outputs": [],
   "source": [
    "siameseResults=[1.6,4.1,8.2,11.5]"
   ]
  },
  {
   "cell_type": "code",
   "execution_count": 3,
   "metadata": {
    "collapsed": true
   },
   "outputs": [],
   "source": [
    "layers3Results=[val/1.22 for val in [15,19,24,33]]"
   ]
  },
  {
   "cell_type": "code",
   "execution_count": 5,
   "metadata": {
    "collapsed": false
   },
   "outputs": [],
   "source": [
    "layers4Results=[val/1.22 for val in [12,25,28,33]]\n"
   ]
  },
  {
   "cell_type": "code",
   "execution_count": 6,
   "metadata": {
    "collapsed": true
   },
   "outputs": [],
   "source": [
    "layers5Results=[val/1.22 for val in [11,18,24,32]]"
   ]
  },
  {
   "cell_type": "code",
   "execution_count": 8,
   "metadata": {
    "collapsed": true
   },
   "outputs": [],
   "source": [
    "layers3Resultsmax=[val/1.22 for val in [17,28,28,33]]\n",
    "layers4Resultsmax=[val/1.22 for val in [18,27,33,40]]\n",
    "layers5Resultsmax=[val/1.22 for val in [16,26,30,35]]"
   ]
  },
  {
   "cell_type": "code",
   "execution_count": 18,
   "metadata": {
    "collapsed": false
   },
   "outputs": [],
   "source": [
    "import matplotlib.pyplot as plt\n",
    "import plotly.plotly as py\n",
    "import numpy as np\n",
    "\n",
    "multiple_bars = plt.figure()"
   ]
  },
  {
   "cell_type": "code",
   "execution_count": 19,
   "metadata": {
    "collapsed": false
   },
   "outputs": [],
   "source": [
    "x=np.array(range(4))"
   ]
  },
  {
   "cell_type": "code",
   "execution_count": 60,
   "metadata": {
    "collapsed": false
   },
   "outputs": [],
   "source": [
    "ax = plt.gca()\n",
    "f,(ax1,ax2) = plt.subplots(2)\n",
    "ax1.set_xticks([0.3,1.3,2.3,3.3])\n",
    "ax1.bar(x,siameseResults,width=0.2,color='y',align='center',label=\"Siamese Network\")\n",
    "ax1.bar(x+0.2, layers3Results,width=0.2,color='r',align='center',label=\"8 layers (3 conv) Network\")\n",
    "ax1.bar(x+0.4, layers4Results,width=0.2,color='g',align='center',label=\"9 layers (4 conv) Network\")\n",
    "ax1.bar(x+0.6, layers5Results,width=0.2,color='b',align='center',label=\"10 layers (5 conv) Network\")\n",
    "ax1.legend(loc=2)\n",
    "ax1.set_xticklabels([\"Top1\",\"Top5\",\"Top10\",\"Top20\"])\n",
    "ax1.set_title(\"Accuracy at the end of 200 epochs\",fontsize=30)\n",
    "ax1.set_ylabel(\"Accuracy (%)\",fontsize=20)\n",
    "\n",
    "\n",
    "plt.rcParams.update({'font.size': 15})\n",
    "\n",
    "ax2.set_xticks([0.3,1.3,2.3,3.3])\n",
    "#ax = plt.subplot2grid((2,2), (0, 0), colspan=2)\n",
    "ax2.bar(x,siameseResults,width=0.2,color='y',align='center',label=\"Siamese Network\")\n",
    "ax2.bar(x+0.2, layers3Resultsmax,width=0.2,color='r',align='center',label=\"8 layers (3 conv) Network\")\n",
    "ax2.bar(x+0.4, layers4Resultsmax,width=0.2,color='g',align='center',label=\"9 layers (4 conv) Network\")\n",
    "ax2.bar(x+0.6, layers5Resultsmax,width=0.2,color='b',align='center',label=\"10 layers (5 conv) Network\")\n",
    "ax2.legend(loc=2)\n",
    "ax2.set_xticks([0.3,1.3,2.3,3.3])\n",
    "ax2.set_xticklabels([\"Top1\",\"Top5\",\"Top10\",\"Top20\"])\n",
    "ax2.set_title(\"Highest Accuracy\",fontsize=30)\n",
    "ax2.set_ylabel(\"Accuracy (%)\",fontsize=20)\n",
    "\n",
    "plt.rcParams.update({'font.size': 15})\n",
    "plt.savefig('Comparision.jpg')\n",
    "\n",
    "plt.show()"
   ]
  },
  {
   "cell_type": "code",
   "execution_count": null,
   "metadata": {
    "collapsed": true
   },
   "outputs": [],
   "source": []
  }
 ],
 "metadata": {
  "kernelspec": {
   "display_name": "Python 3",
   "language": "python",
   "name": "python3"
  },
  "language_info": {
   "codemirror_mode": {
    "name": "ipython",
    "version": 3
   },
   "file_extension": ".py",
   "mimetype": "text/x-python",
   "name": "python",
   "nbconvert_exporter": "python",
   "pygments_lexer": "ipython3",
   "version": "3.5.3"
  }
 },
 "nbformat": 4,
 "nbformat_minor": 0
}
