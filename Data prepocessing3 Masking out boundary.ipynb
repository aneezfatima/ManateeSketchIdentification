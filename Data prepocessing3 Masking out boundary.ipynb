{
 "cells": [
  {
   "cell_type": "code",
   "execution_count": 1,
   "metadata": {
    "collapsed": false
   },
   "outputs": [],
   "source": [
    "import cv2\n",
    "import numpy as np\n",
    "from os import listdir\n",
    "from PIL import Image"
   ]
  },
  {
   "cell_type": "code",
   "execution_count": 2,
   "metadata": {
    "collapsed": false
   },
   "outputs": [],
   "source": [
    "#The prototype has only body shapes and eyes that needs to be masked out from other manatees\n",
    "img = cv2.imread('Dataset/prototype.jpg',cv2.IMREAD_GRAYSCALE)"
   ]
  },
  {
   "cell_type": "code",
   "execution_count": 3,
   "metadata": {
    "collapsed": false
   },
   "outputs": [
    {
     "name": "stdout",
     "output_type": "stream",
     "text": [
      "(259, 559)\n"
     ]
    }
   ],
   "source": [
    "print(img.shape)\n",
    "#All images have same shape"
   ]
  },
  {
   "cell_type": "code",
   "execution_count": 4,
   "metadata": {
    "collapsed": false
   },
   "outputs": [],
   "source": [
    "#Removes boundaries from test folder\n",
    "folder=\"Dataset/Preprocessed3Withoutboundaries/test/\"\n",
    "for image in listdir(folder):\n",
    "    imagename=folder+image\n",
    "    pic=cv2.imread(imagename,cv2.IMREAD_GRAYSCALE)\n",
    "    for i in range(259):\n",
    "        for j in range(559):\n",
    "            if img[i,j]<255: pic[i,j]=255\n",
    "    cv2.imwrite(imagename,pic)"
   ]
  },
  {
   "cell_type": "code",
   "execution_count": 5,
   "metadata": {
    "collapsed": false
   },
   "outputs": [],
   "source": [
    "#Removes boundaries from train folder\n",
    "folder=\"Dataset/Preprocessed3Withoutboundaries/train/\"\n",
    "for image in listdir(folder):\n",
    "    imagename=folder+image\n",
    "    pic=cv2.imread(imagename,cv2.IMREAD_GRAYSCALE)\n",
    "    for i in range(259):\n",
    "        for j in range(559):\n",
    "            if img[i,j]<255: pic[i,j]=255\n",
    "    cv2.imwrite(imagename,pic)"
   ]
  },
  {
   "cell_type": "code",
   "execution_count": 6,
   "metadata": {
    "collapsed": true
   },
   "outputs": [],
   "source": [
    "#Inverting the colors of images\n",
    "folder=\"Dataset/Preprocessed3Withoutboundaries/test/\"\n",
    "for image in listdir(folder):\n",
    "    imagename=folder+image\n",
    "    pic=cv2.imread(imagename,cv2.IMREAD_GRAYSCALE)\n",
    "    pic = cv2.bitwise_not(pic)\n",
    "    cv2.imwrite(imagename,pic)"
   ]
  },
  {
   "cell_type": "code",
   "execution_count": 7,
   "metadata": {
    "collapsed": true
   },
   "outputs": [],
   "source": [
    "#Inverting the colors of images\n",
    "folder=\"Dataset/Preprocessed3Withoutboundaries/train/\"\n",
    "for image in listdir(folder):\n",
    "    imagename=folder+image\n",
    "    pic=cv2.imread(imagename,cv2.IMREAD_GRAYSCALE)\n",
    "    pic = cv2.bitwise_not(pic)\n",
    "    cv2.imwrite(imagename,pic)"
   ]
  },
  {
   "cell_type": "code",
   "execution_count": null,
   "metadata": {
    "collapsed": true
   },
   "outputs": [],
   "source": []
  }
 ],
 "metadata": {
  "kernelspec": {
   "display_name": "Python 3",
   "language": "python",
   "name": "python3"
  },
  "language_info": {
   "codemirror_mode": {
    "name": "ipython",
    "version": 3
   },
   "file_extension": ".py",
   "mimetype": "text/x-python",
   "name": "python",
   "nbconvert_exporter": "python",
   "pygments_lexer": "ipython3",
   "version": "3.5.3"
  }
 },
 "nbformat": 4,
 "nbformat_minor": 0
}
